{
 "cells": [
  {
   "cell_type": "markdown",
   "id": "d7663042",
   "metadata": {
    "id": "d7663042"
   },
   "source": [
    "**СОЗДАНИЕ ЧАТ-БОТА НА ОСНОВЕ ДАТАСЕТА ДИАЛОГОВ ИЗ КИНОФИЛЬМОВ**"
   ]
  },
  {
   "cell_type": "markdown",
   "id": "9e1d3206",
   "metadata": {
    "id": "9e1d3206"
   },
   "source": [
    "Простой чат-бот будет создан с помощью нейронной сети. В работе применён датасет Cornell Movie-Dialogs Corpus. В нем собрано более 220 тысяч реплик из 617 кинофильмов. Датасет и его описание доступны по [ссылке](https://www.cs.cornell.edu/~cristian/Cornell_Movie-Dialogs_Corpus.html)."
   ]
  },
  {
   "cell_type": "markdown",
   "id": "adaf6f66",
   "metadata": {
    "id": "adaf6f66"
   },
   "source": [
    "**Загрузка библиотек**"
   ]
  },
  {
   "cell_type": "markdown",
   "id": "b27b0ca4",
   "metadata": {
    "id": "b27b0ca4"
   },
   "source": [
    "Загрузим необходимые библиотеки и проверим текущую версию tensorflow"
   ]
  },
  {
   "cell_type": "code",
   "execution_count": 1,
   "id": "oeH_l3aFdNuO",
   "metadata": {
    "colab": {
     "base_uri": "https://localhost:8080/"
    },
    "id": "oeH_l3aFdNuO",
    "outputId": "a3223809-b42a-4328-8863-b8395dd26dd0"
   },
   "outputs": [
    {
     "name": "stdout",
     "output_type": "stream",
     "text": [
      "Requirement already satisfied: livelossplot in /usr/local/lib/python3.7/dist-packages (0.5.4)\n",
      "Requirement already satisfied: ipython in /usr/local/lib/python3.7/dist-packages (from livelossplot) (5.5.0)\n",
      "Requirement already satisfied: bokeh in /usr/local/lib/python3.7/dist-packages (from livelossplot) (2.3.2)\n",
      "Requirement already satisfied: matplotlib in /usr/local/lib/python3.7/dist-packages (from livelossplot) (3.2.2)\n",
      "Requirement already satisfied: decorator in /usr/local/lib/python3.7/dist-packages (from ipython->livelossplot) (4.4.2)\n",
      "Requirement already satisfied: pickleshare in /usr/local/lib/python3.7/dist-packages (from ipython->livelossplot) (0.7.5)\n",
      "Requirement already satisfied: prompt-toolkit<2.0.0,>=1.0.4 in /usr/local/lib/python3.7/dist-packages (from ipython->livelossplot) (1.0.18)\n",
      "Requirement already satisfied: setuptools>=18.5 in /usr/local/lib/python3.7/dist-packages (from ipython->livelossplot) (56.1.0)\n",
      "Requirement already satisfied: pexpect; sys_platform != \"win32\" in /usr/local/lib/python3.7/dist-packages (from ipython->livelossplot) (4.8.0)\n",
      "Requirement already satisfied: simplegeneric>0.8 in /usr/local/lib/python3.7/dist-packages (from ipython->livelossplot) (0.8.1)\n",
      "Requirement already satisfied: traitlets>=4.2 in /usr/local/lib/python3.7/dist-packages (from ipython->livelossplot) (5.0.5)\n",
      "Requirement already satisfied: pygments in /usr/local/lib/python3.7/dist-packages (from ipython->livelossplot) (2.6.1)\n",
      "Requirement already satisfied: PyYAML>=3.10 in /usr/local/lib/python3.7/dist-packages (from bokeh->livelossplot) (3.13)\n",
      "Requirement already satisfied: numpy>=1.11.3 in /usr/local/lib/python3.7/dist-packages (from bokeh->livelossplot) (1.19.5)\n",
      "Requirement already satisfied: typing-extensions>=3.7.4 in /usr/local/lib/python3.7/dist-packages (from bokeh->livelossplot) (3.7.4.3)\n",
      "Requirement already satisfied: pillow>=7.1.0 in /usr/local/lib/python3.7/dist-packages (from bokeh->livelossplot) (7.1.2)\n",
      "Requirement already satisfied: packaging>=16.8 in /usr/local/lib/python3.7/dist-packages (from bokeh->livelossplot) (20.9)\n",
      "Requirement already satisfied: tornado>=5.1 in /usr/local/lib/python3.7/dist-packages (from bokeh->livelossplot) (5.1.1)\n",
      "Requirement already satisfied: python-dateutil>=2.1 in /usr/local/lib/python3.7/dist-packages (from bokeh->livelossplot) (2.8.1)\n",
      "Requirement already satisfied: Jinja2>=2.9 in /usr/local/lib/python3.7/dist-packages (from bokeh->livelossplot) (2.11.3)\n",
      "Requirement already satisfied: pyparsing!=2.0.4,!=2.1.2,!=2.1.6,>=2.0.1 in /usr/local/lib/python3.7/dist-packages (from matplotlib->livelossplot) (2.4.7)\n",
      "Requirement already satisfied: kiwisolver>=1.0.1 in /usr/local/lib/python3.7/dist-packages (from matplotlib->livelossplot) (1.3.1)\n",
      "Requirement already satisfied: cycler>=0.10 in /usr/local/lib/python3.7/dist-packages (from matplotlib->livelossplot) (0.10.0)\n",
      "Requirement already satisfied: six>=1.9.0 in /usr/local/lib/python3.7/dist-packages (from prompt-toolkit<2.0.0,>=1.0.4->ipython->livelossplot) (1.15.0)\n",
      "Requirement already satisfied: wcwidth in /usr/local/lib/python3.7/dist-packages (from prompt-toolkit<2.0.0,>=1.0.4->ipython->livelossplot) (0.2.5)\n",
      "Requirement already satisfied: ptyprocess>=0.5 in /usr/local/lib/python3.7/dist-packages (from pexpect; sys_platform != \"win32\"->ipython->livelossplot) (0.7.0)\n",
      "Requirement already satisfied: ipython-genutils in /usr/local/lib/python3.7/dist-packages (from traitlets>=4.2->ipython->livelossplot) (0.2.0)\n",
      "Requirement already satisfied: MarkupSafe>=0.23 in /usr/local/lib/python3.7/dist-packages (from Jinja2>=2.9->bokeh->livelossplot) (2.0.1)\n"
     ]
    }
   ],
   "source": [
    "pip install livelossplot"
   ]
  },
  {
   "cell_type": "code",
   "execution_count": 2,
   "id": "b515fe5d",
   "metadata": {
    "colab": {
     "base_uri": "https://localhost:8080/"
    },
    "id": "b515fe5d",
    "outputId": "ac265efd-1c8c-4d76-beee-abe7e6748207"
   },
   "outputs": [
    {
     "name": "stdout",
     "output_type": "stream",
     "text": [
      "2.5.0\n"
     ]
    }
   ],
   "source": [
    "import pandas as pd\n",
    "import numpy as np\n",
    "import tensorflow as tf\n",
    "from livelossplot.tf_keras import PlotLossesCallback\n",
    "from pathlib import Path\n",
    "\n",
    "print(tf.__version__)"
   ]
  },
  {
   "cell_type": "markdown",
   "id": "JI1yLiLUKBWF",
   "metadata": {
    "id": "JI1yLiLUKBWF"
   },
   "source": [
    "Подключим Google Drive"
   ]
  },
  {
   "cell_type": "code",
   "execution_count": 3,
   "id": "rgIK0p0OKAHW",
   "metadata": {
    "colab": {
     "base_uri": "https://localhost:8080/"
    },
    "id": "rgIK0p0OKAHW",
    "outputId": "4ebd32b4-e771-4a73-dce4-0bfd2955b240"
   },
   "outputs": [
    {
     "name": "stdout",
     "output_type": "stream",
     "text": [
      "Drive already mounted at /content/drive/; to attempt to forcibly remount, call drive.mount(\"/content/drive/\", force_remount=True).\n"
     ]
    }
   ],
   "source": [
    "if True:\n",
    "    from google.colab import drive\n",
    "    drive.mount('/content/drive/')"
   ]
  },
  {
   "cell_type": "markdown",
   "id": "edf92447",
   "metadata": {
    "id": "edf92447"
   },
   "source": [
    "**Загрузка данных**"
   ]
  },
  {
   "cell_type": "markdown",
   "id": "wu-tKBTsNx7H",
   "metadata": {
    "id": "wu-tKBTsNx7H"
   },
   "source": [
    "Создадим два датафрейма.\n",
    "\n",
    "df_lines:\n",
    "* line_id - идентификатор реплики;\n",
    "* character_id - идентификатор персонажа, который произносит реплику;\n",
    "* move_id - идентификатор фильма, в котором происходит действие;\n",
    "* name - имя персонажа, который произносит реплику;\n",
    "* line - реплика.\n",
    "\n",
    "\n",
    "df_conversations:\n",
    "* character1_id - идентификатор первого персонажа в диалоге\n",
    "* character2_id - идентификатор второго персонажа в диалоге\n",
    "* move_id - идентификатор фильма, в котором происходит действие;\n",
    "* line_order - порядок реплик в диалоге"
   ]
  },
  {
   "cell_type": "code",
   "execution_count": 4,
   "id": "2f10612a",
   "metadata": {
    "colab": {
     "base_uri": "https://localhost:8080/",
     "height": 204
    },
    "id": "2f10612a",
    "outputId": "dfb2059b-3cb3-47e9-f50b-8b315ba463e4"
   },
   "outputs": [
    {
     "data": {
      "text/html": [
       "<div>\n",
       "<style scoped>\n",
       "    .dataframe tbody tr th:only-of-type {\n",
       "        vertical-align: middle;\n",
       "    }\n",
       "\n",
       "    .dataframe tbody tr th {\n",
       "        vertical-align: top;\n",
       "    }\n",
       "\n",
       "    .dataframe thead th {\n",
       "        text-align: right;\n",
       "    }\n",
       "</style>\n",
       "<table border=\"1\" class=\"dataframe\">\n",
       "  <thead>\n",
       "    <tr style=\"text-align: right;\">\n",
       "      <th></th>\n",
       "      <th>line_id</th>\n",
       "      <th>character_id</th>\n",
       "      <th>movie_id</th>\n",
       "      <th>name</th>\n",
       "      <th>line</th>\n",
       "    </tr>\n",
       "  </thead>\n",
       "  <tbody>\n",
       "    <tr>\n",
       "      <th>0</th>\n",
       "      <td>L1045</td>\n",
       "      <td>u0</td>\n",
       "      <td>m0</td>\n",
       "      <td>BIANCA</td>\n",
       "      <td>They do not!</td>\n",
       "    </tr>\n",
       "    <tr>\n",
       "      <th>1</th>\n",
       "      <td>L1044</td>\n",
       "      <td>u2</td>\n",
       "      <td>m0</td>\n",
       "      <td>CAMERON</td>\n",
       "      <td>They do to!</td>\n",
       "    </tr>\n",
       "    <tr>\n",
       "      <th>2</th>\n",
       "      <td>L985</td>\n",
       "      <td>u0</td>\n",
       "      <td>m0</td>\n",
       "      <td>BIANCA</td>\n",
       "      <td>I hope so.</td>\n",
       "    </tr>\n",
       "    <tr>\n",
       "      <th>3</th>\n",
       "      <td>L984</td>\n",
       "      <td>u2</td>\n",
       "      <td>m0</td>\n",
       "      <td>CAMERON</td>\n",
       "      <td>She okay?</td>\n",
       "    </tr>\n",
       "    <tr>\n",
       "      <th>4</th>\n",
       "      <td>L925</td>\n",
       "      <td>u0</td>\n",
       "      <td>m0</td>\n",
       "      <td>BIANCA</td>\n",
       "      <td>Let's go.</td>\n",
       "    </tr>\n",
       "  </tbody>\n",
       "</table>\n",
       "</div>"
      ],
      "text/plain": [
       "  line_id character_id movie_id     name          line\n",
       "0   L1045           u0       m0   BIANCA  They do not!\n",
       "1   L1044           u2       m0  CAMERON   They do to!\n",
       "2    L985           u0       m0   BIANCA    I hope so.\n",
       "3    L984           u2       m0  CAMERON     She okay?\n",
       "4    L925           u0       m0   BIANCA     Let's go."
      ]
     },
     "execution_count": 4,
     "metadata": {
      "tags": []
     },
     "output_type": "execute_result"
    }
   ],
   "source": [
    "df_lines = pd.read_csv('/content/drive/MyDrive/movie_lines.txt', sep='\\ \\+\\+\\+\\$\\+\\+\\+\\ ', engine='python',\n",
    "                      names=['line_id', 'character_id', 'movie_id', 'name', 'line'])\n",
    "df_lines.head()"
   ]
  },
  {
   "cell_type": "code",
   "execution_count": 5,
   "id": "bf544610",
   "metadata": {
    "colab": {
     "base_uri": "https://localhost:8080/",
     "height": 204
    },
    "id": "bf544610",
    "outputId": "d3a92128-9870-46fc-aad1-cf6efa6b63bc"
   },
   "outputs": [
    {
     "data": {
      "text/html": [
       "<div>\n",
       "<style scoped>\n",
       "    .dataframe tbody tr th:only-of-type {\n",
       "        vertical-align: middle;\n",
       "    }\n",
       "\n",
       "    .dataframe tbody tr th {\n",
       "        vertical-align: top;\n",
       "    }\n",
       "\n",
       "    .dataframe thead th {\n",
       "        text-align: right;\n",
       "    }\n",
       "</style>\n",
       "<table border=\"1\" class=\"dataframe\">\n",
       "  <thead>\n",
       "    <tr style=\"text-align: right;\">\n",
       "      <th></th>\n",
       "      <th>character1_id</th>\n",
       "      <th>character2_id</th>\n",
       "      <th>movie_id</th>\n",
       "      <th>lines_order</th>\n",
       "    </tr>\n",
       "  </thead>\n",
       "  <tbody>\n",
       "    <tr>\n",
       "      <th>0</th>\n",
       "      <td>u0</td>\n",
       "      <td>u2</td>\n",
       "      <td>m0</td>\n",
       "      <td>['L194', 'L195', 'L196', 'L197']</td>\n",
       "    </tr>\n",
       "    <tr>\n",
       "      <th>1</th>\n",
       "      <td>u0</td>\n",
       "      <td>u2</td>\n",
       "      <td>m0</td>\n",
       "      <td>['L198', 'L199']</td>\n",
       "    </tr>\n",
       "    <tr>\n",
       "      <th>2</th>\n",
       "      <td>u0</td>\n",
       "      <td>u2</td>\n",
       "      <td>m0</td>\n",
       "      <td>['L200', 'L201', 'L202', 'L203']</td>\n",
       "    </tr>\n",
       "    <tr>\n",
       "      <th>3</th>\n",
       "      <td>u0</td>\n",
       "      <td>u2</td>\n",
       "      <td>m0</td>\n",
       "      <td>['L204', 'L205', 'L206']</td>\n",
       "    </tr>\n",
       "    <tr>\n",
       "      <th>4</th>\n",
       "      <td>u0</td>\n",
       "      <td>u2</td>\n",
       "      <td>m0</td>\n",
       "      <td>['L207', 'L208']</td>\n",
       "    </tr>\n",
       "  </tbody>\n",
       "</table>\n",
       "</div>"
      ],
      "text/plain": [
       "  character1_id character2_id movie_id                       lines_order\n",
       "0            u0            u2       m0  ['L194', 'L195', 'L196', 'L197']\n",
       "1            u0            u2       m0                  ['L198', 'L199']\n",
       "2            u0            u2       m0  ['L200', 'L201', 'L202', 'L203']\n",
       "3            u0            u2       m0          ['L204', 'L205', 'L206']\n",
       "4            u0            u2       m0                  ['L207', 'L208']"
      ]
     },
     "execution_count": 5,
     "metadata": {
      "tags": []
     },
     "output_type": "execute_result"
    }
   ],
   "source": [
    "df_conversations = pd.read_csv('/content/drive/MyDrive/movie_conversations.txt', sep='\\ \\+\\+\\+\\$\\+\\+\\+\\ ', engine='python',\n",
    "                              names=['character1_id', 'character2_id', 'movie_id', 'lines_order'])\n",
    "df_conversations.head()"
   ]
  },
  {
   "cell_type": "markdown",
   "id": "kYY0qEzaPet4",
   "metadata": {
    "id": "kYY0qEzaPet4"
   },
   "source": [
    "Выведем основную информацию о датафреймах"
   ]
  },
  {
   "cell_type": "code",
   "execution_count": 6,
   "id": "00FKz2ghPOt9",
   "metadata": {
    "colab": {
     "base_uri": "https://localhost:8080/",
     "height": 173
    },
    "id": "00FKz2ghPOt9",
    "outputId": "0a065ee9-61c7-4e24-f4d2-4569fbf323cf"
   },
   "outputs": [
    {
     "data": {
      "text/html": [
       "<div>\n",
       "<style scoped>\n",
       "    .dataframe tbody tr th:only-of-type {\n",
       "        vertical-align: middle;\n",
       "    }\n",
       "\n",
       "    .dataframe tbody tr th {\n",
       "        vertical-align: top;\n",
       "    }\n",
       "\n",
       "    .dataframe thead th {\n",
       "        text-align: right;\n",
       "    }\n",
       "</style>\n",
       "<table border=\"1\" class=\"dataframe\">\n",
       "  <thead>\n",
       "    <tr style=\"text-align: right;\">\n",
       "      <th></th>\n",
       "      <th>character1_id</th>\n",
       "      <th>character2_id</th>\n",
       "      <th>movie_id</th>\n",
       "      <th>lines_order</th>\n",
       "    </tr>\n",
       "  </thead>\n",
       "  <tbody>\n",
       "    <tr>\n",
       "      <th>count</th>\n",
       "      <td>83097</td>\n",
       "      <td>83097</td>\n",
       "      <td>83097</td>\n",
       "      <td>83097</td>\n",
       "    </tr>\n",
       "    <tr>\n",
       "      <th>unique</th>\n",
       "      <td>5420</td>\n",
       "      <td>5608</td>\n",
       "      <td>617</td>\n",
       "      <td>83097</td>\n",
       "    </tr>\n",
       "    <tr>\n",
       "      <th>top</th>\n",
       "      <td>u4331</td>\n",
       "      <td>u1475</td>\n",
       "      <td>m289</td>\n",
       "      <td>['L588377', 'L588378', 'L588379', 'L588380', '...</td>\n",
       "    </tr>\n",
       "    <tr>\n",
       "      <th>freq</th>\n",
       "      <td>193</td>\n",
       "      <td>187</td>\n",
       "      <td>338</td>\n",
       "      <td>1</td>\n",
       "    </tr>\n",
       "  </tbody>\n",
       "</table>\n",
       "</div>"
      ],
      "text/plain": [
       "       character1_id  ...                                        lines_order\n",
       "count          83097  ...                                              83097\n",
       "unique          5420  ...                                              83097\n",
       "top            u4331  ...  ['L588377', 'L588378', 'L588379', 'L588380', '...\n",
       "freq             193  ...                                                  1\n",
       "\n",
       "[4 rows x 4 columns]"
      ]
     },
     "execution_count": 6,
     "metadata": {
      "tags": []
     },
     "output_type": "execute_result"
    }
   ],
   "source": [
    "df_conversations.describe()"
   ]
  },
  {
   "cell_type": "code",
   "execution_count": 7,
   "id": "1a250275",
   "metadata": {
    "colab": {
     "base_uri": "https://localhost:8080/"
    },
    "id": "1a250275",
    "outputId": "bc98235d-6d34-4354-bcf3-f41f991065fb"
   },
   "outputs": [
    {
     "name": "stdout",
     "output_type": "stream",
     "text": [
      "<class 'pandas.core.frame.DataFrame'>\n",
      "RangeIndex: 83097 entries, 0 to 83096\n",
      "Data columns (total 4 columns):\n",
      " #   Column         Non-Null Count  Dtype \n",
      "---  ------         --------------  ----- \n",
      " 0   character1_id  83097 non-null  object\n",
      " 1   character2_id  83097 non-null  object\n",
      " 2   movie_id       83097 non-null  object\n",
      " 3   lines_order    83097 non-null  object\n",
      "dtypes: object(4)\n",
      "memory usage: 2.5+ MB\n"
     ]
    }
   ],
   "source": [
    "df_conversations.info()"
   ]
  },
  {
   "cell_type": "code",
   "execution_count": 8,
   "id": "Irzyp6-BPZCk",
   "metadata": {
    "colab": {
     "base_uri": "https://localhost:8080/",
     "height": 173
    },
    "id": "Irzyp6-BPZCk",
    "outputId": "235af7e0-557e-48e6-fc95-bf8c8312e631"
   },
   "outputs": [
    {
     "data": {
      "text/html": [
       "<div>\n",
       "<style scoped>\n",
       "    .dataframe tbody tr th:only-of-type {\n",
       "        vertical-align: middle;\n",
       "    }\n",
       "\n",
       "    .dataframe tbody tr th {\n",
       "        vertical-align: top;\n",
       "    }\n",
       "\n",
       "    .dataframe thead th {\n",
       "        text-align: right;\n",
       "    }\n",
       "</style>\n",
       "<table border=\"1\" class=\"dataframe\">\n",
       "  <thead>\n",
       "    <tr style=\"text-align: right;\">\n",
       "      <th></th>\n",
       "      <th>line_id</th>\n",
       "      <th>character_id</th>\n",
       "      <th>movie_id</th>\n",
       "      <th>name</th>\n",
       "      <th>line</th>\n",
       "    </tr>\n",
       "  </thead>\n",
       "  <tbody>\n",
       "    <tr>\n",
       "      <th>count</th>\n",
       "      <td>304713</td>\n",
       "      <td>304713</td>\n",
       "      <td>304713</td>\n",
       "      <td>304670</td>\n",
       "      <td>304446</td>\n",
       "    </tr>\n",
       "    <tr>\n",
       "      <th>unique</th>\n",
       "      <td>304713</td>\n",
       "      <td>9035</td>\n",
       "      <td>617</td>\n",
       "      <td>5413</td>\n",
       "      <td>265807</td>\n",
       "    </tr>\n",
       "    <tr>\n",
       "      <th>top</th>\n",
       "      <td>L214786</td>\n",
       "      <td>u4525</td>\n",
       "      <td>m289</td>\n",
       "      <td>JACK</td>\n",
       "      <td>What?</td>\n",
       "    </tr>\n",
       "    <tr>\n",
       "      <th>freq</th>\n",
       "      <td>1</td>\n",
       "      <td>537</td>\n",
       "      <td>1530</td>\n",
       "      <td>3032</td>\n",
       "      <td>1684</td>\n",
       "    </tr>\n",
       "  </tbody>\n",
       "</table>\n",
       "</div>"
      ],
      "text/plain": [
       "        line_id character_id movie_id    name    line\n",
       "count    304713       304713   304713  304670  304446\n",
       "unique   304713         9035      617    5413  265807\n",
       "top     L214786        u4525     m289    JACK   What?\n",
       "freq          1          537     1530    3032    1684"
      ]
     },
     "execution_count": 8,
     "metadata": {
      "tags": []
     },
     "output_type": "execute_result"
    }
   ],
   "source": [
    "df_lines.describe()"
   ]
  },
  {
   "cell_type": "code",
   "execution_count": 9,
   "id": "3943d5ed",
   "metadata": {
    "colab": {
     "base_uri": "https://localhost:8080/"
    },
    "id": "3943d5ed",
    "outputId": "823e8f5d-2a52-4946-9490-f5d515fe592a"
   },
   "outputs": [
    {
     "name": "stdout",
     "output_type": "stream",
     "text": [
      "<class 'pandas.core.frame.DataFrame'>\n",
      "RangeIndex: 304713 entries, 0 to 304712\n",
      "Data columns (total 5 columns):\n",
      " #   Column        Non-Null Count   Dtype \n",
      "---  ------        --------------   ----- \n",
      " 0   line_id       304713 non-null  object\n",
      " 1   character_id  304713 non-null  object\n",
      " 2   movie_id      304713 non-null  object\n",
      " 3   name          304670 non-null  object\n",
      " 4   line          304446 non-null  object\n",
      "dtypes: object(5)\n",
      "memory usage: 11.6+ MB\n"
     ]
    }
   ],
   "source": [
    "df_lines.info()"
   ]
  },
  {
   "cell_type": "markdown",
   "id": "kDFZLenMaujF",
   "metadata": {
    "id": "kDFZLenMaujF"
   },
   "source": [
    "**Обработка данных**"
   ]
  },
  {
   "cell_type": "markdown",
   "id": "nV2enGLnPsDO",
   "metadata": {
    "id": "nV2enGLnPsDO"
   },
   "source": [
    "В датафрейме df_lines в столбце с репликами ('lines') есть пропущенные значения. Не будем их удалять, чтобы не нарушать структуру диалогов, а заменим их на многозначительное молчание\n"
   ]
  },
  {
   "cell_type": "code",
   "execution_count": 45,
   "id": "54b71260",
   "metadata": {
    "id": "54b71260"
   },
   "outputs": [],
   "source": [
    "df_lines['line'].fillna('Hmm', inplace = True)"
   ]
  },
  {
   "cell_type": "markdown",
   "id": "IOL-JuMkVTdJ",
   "metadata": {
    "id": "IOL-JuMkVTdJ"
   },
   "source": [
    "Создадим словарь для декодирования реплик: из 'line_id' в 'line'"
   ]
  },
  {
   "cell_type": "code",
   "execution_count": 46,
   "id": "173fa627",
   "metadata": {
    "id": "173fa627"
   },
   "outputs": [],
   "source": [
    "line_decoder = {line_id:line for line_id, line in zip(df_lines['line_id'].values, df_lines['line'].values)}"
   ]
  },
  {
   "cell_type": "markdown",
   "id": "9QF2HMcqWOlR",
   "metadata": {
    "id": "9QF2HMcqWOlR"
   },
   "source": [
    "Создадим список всех диалогов. Отбросим все диалоги, которые  содержат реплики длинной более 50 символов, чтобы оптимизировать обучение и работу чат-бота"
   ]
  },
  {
   "cell_type": "code",
   "execution_count": 47,
   "id": "9710091e",
   "metadata": {
    "id": "9710091e"
   },
   "outputs": [],
   "source": [
    "conversations = df_conversations['lines_order'].values \n",
    "conversations_list = [] \n",
    "Length_of_phrase = 35\n",
    "\n",
    "for lines in conversations:\n",
    "    lines = lines[2:-2].split('\\', \\'')\n",
    "    phrase_list = []\n",
    "    Flag = True\n",
    "    for line in lines:\n",
    "        phrase = line_decoder.get(line)\n",
    "        if len(phrase) <= Length_of_phrase:\n",
    "            phrase_list.append(phrase)     \n",
    "        else:\n",
    "            Flag = False\n",
    "            break\n",
    "    if Flag:\n",
    "        conversations_list.append(phrase_list)  "
   ]
  },
  {
   "cell_type": "markdown",
   "id": "kHbR640wZoNw",
   "metadata": {
    "id": "kHbR640wZoNw"
   },
   "source": [
    "Разделим все диалоги на пары реплик"
   ]
  },
  {
   "cell_type": "code",
   "execution_count": 48,
   "id": "9df8f1b8",
   "metadata": {
    "id": "9df8f1b8"
   },
   "outputs": [],
   "source": [
    "first_lines = [line for conversation in conversations_list for line in conversation[:-1]]\n",
    "second_lines = [line for conversation in conversations_list for line in conversation[1:]]"
   ]
  },
  {
   "cell_type": "markdown",
   "id": "Ge0tcyRfZ-K9",
   "metadata": {
    "id": "Ge0tcyRfZ-K9"
   },
   "source": [
    "Протестируем результат разбиения"
   ]
  },
  {
   "cell_type": "code",
   "execution_count": 49,
   "id": "it80LnchaBDY",
   "metadata": {
    "colab": {
     "base_uri": "https://localhost:8080/"
    },
    "id": "it80LnchaBDY",
    "outputId": "0926f8e3-56e8-441d-cba5-5bd1f117e2c0"
   },
   "outputs": [
    {
     "name": "stdout",
     "output_type": "stream",
     "text": [
      "Line:\n",
      "There.\n",
      "Reply:\n",
      "Where?\n",
      "-----------------------\n",
      "Line:\n",
      "You have my word.  As a gentleman\n",
      "Reply:\n",
      "You're sweet.\n",
      "-----------------------\n",
      "Line:\n",
      "Have fun tonight?\n",
      "Reply:\n",
      "Tons\n",
      "-----------------------\n",
      "Line:\n",
      "Well, no...\n",
      "Reply:\n",
      "Then that's all you had to say.\n",
      "-----------------------\n",
      "Line:\n",
      "Then that's all you had to say.\n",
      "Reply:\n",
      "But\n",
      "-----------------------\n",
      "Line:\n",
      "But\n",
      "Reply:\n",
      "You always been this selfish?\n",
      "-----------------------\n",
      "Line:\n",
      "Wow\n",
      "Reply:\n",
      "Let's go.\n",
      "-----------------------\n",
      "Line:\n",
      "She okay?\n",
      "Reply:\n",
      "I hope so.\n",
      "-----------------------\n",
      "Line:\n",
      "They do to!\n",
      "Reply:\n",
      "They do not!\n",
      "-----------------------\n",
      "Line:\n",
      "Did you change your hair?\n",
      "Reply:\n",
      "No.\n",
      "-----------------------\n"
     ]
    }
   ],
   "source": [
    "for i in range(10):\n",
    "    print(f'Line:\\n{first_lines[i]}\\nReply:\\n{second_lines[i]}\\n-----------------------')"
   ]
  },
  {
   "cell_type": "markdown",
   "id": "GJvaVgC4a4NF",
   "metadata": {
    "id": "GJvaVgC4a4NF"
   },
   "source": [
    "**Кодирование данных**"
   ]
  },
  {
   "cell_type": "markdown",
   "id": "JBpO9g6JbGhS",
   "metadata": {
    "id": "JBpO9g6JbGhS"
   },
   "source": [
    "Подготовим функцию, для создания словарей и их кодирования"
   ]
  },
  {
   "cell_type": "code",
   "execution_count": 50,
   "id": "d5da1fa0",
   "metadata": {
    "id": "d5da1fa0"
   },
   "outputs": [],
   "source": [
    "def prepare_vocab(texts):\n",
    "    vocab = sorted(set(''.join(texts)))\n",
    "    vocab.append('<START>')\n",
    "    vocab.append('<END>')\n",
    "    vocab_size = len(vocab)\n",
    "    char2idx = {u:i for i, u in enumerate(vocab)}\n",
    "    idx2char = np.array(vocab)\n",
    "    return vocab_size, char2idx, idx2char\n",
    "\n",
    "INPUT_VOCAB_SIZE, input_char2idx, input_idx2char = prepare_vocab(first_lines)\n",
    "TARGET_VOCAB_SIZE, target_char2idx, target_idx2char = prepare_vocab(second_lines)"
   ]
  },
  {
   "cell_type": "markdown",
   "id": "gAMvR-oobP8v",
   "metadata": {
    "id": "gAMvR-oobP8v"
   },
   "source": [
    "С помощью полученых словарей закодируем текстовые последовательности"
   ]
  },
  {
   "cell_type": "code",
   "execution_count": 51,
   "id": "6d73248f",
   "metadata": {
    "id": "6d73248f"
   },
   "outputs": [],
   "source": [
    "input_texts_as_int = [[input_char2idx[c] for c in text] for text in first_lines]\n",
    "target_texts_as_int = [[target_char2idx[c] for c in text] for text in second_lines]\n",
    "\n",
    "encoder_input_seqs = [np.array(text) for text in input_texts_as_int]\n",
    "decoder_input_seqs = []\n",
    "decoder_target_seqs = []\n",
    "for target_text in target_texts_as_int:\n",
    "    decoder_input_seqs.append(np.array([target_char2idx['<START>']] + target_text))\n",
    "    decoder_target_seqs.append(np.array(target_text + [target_char2idx['<END>']]))"
   ]
  },
  {
   "cell_type": "markdown",
   "id": "GaWsIvb-cHLx",
   "metadata": {
    "id": "GaWsIvb-cHLx"
   },
   "source": [
    "Подготовим входные данные для нейросети с применением паддинга"
   ]
  },
  {
   "cell_type": "code",
   "execution_count": 52,
   "id": "760faffb",
   "metadata": {
    "id": "760faffb"
   },
   "outputs": [],
   "source": [
    "max_enc_seq_length = max([len(seq) for seq in encoder_input_seqs])\n",
    "max_dec_seq_length = max([len(seq) for seq in decoder_input_seqs])\n",
    "\n",
    "encoder_input_seqs = tf.keras.preprocessing.sequence.pad_sequences(\n",
    "    encoder_input_seqs,\n",
    "    value=input_char2idx[' '],\n",
    "    padding='post',\n",
    "    maxlen=max_enc_seq_length)\n",
    "\n",
    "decoder_input_seqs = tf.keras.preprocessing.sequence.pad_sequences(\n",
    "    decoder_input_seqs,\n",
    "    value=target_char2idx[' '],\n",
    "    padding='post',\n",
    "    maxlen=max_dec_seq_length)\n",
    "\n",
    "decoder_target_seqs = tf.keras.preprocessing.sequence.pad_sequences(\n",
    "    decoder_target_seqs,\n",
    "    value=target_char2idx[' '],\n",
    "    padding='post',\n",
    "    maxlen=max_dec_seq_length)"
   ]
  },
  {
   "cell_type": "markdown",
   "id": "5b5_NIrocNXL",
   "metadata": {
    "id": "5b5_NIrocNXL"
   },
   "source": [
    "**Создание и обучение модели**"
   ]
  },
  {
   "cell_type": "markdown",
   "id": "g5X0mWkFcZuf",
   "metadata": {
    "id": "g5X0mWkFcZuf"
   },
   "source": [
    "Создадим модель с применением Attention"
   ]
  },
  {
   "cell_type": "code",
   "execution_count": 53,
   "id": "71f315b6",
   "metadata": {
    "colab": {
     "base_uri": "https://localhost:8080/"
    },
    "id": "71f315b6",
    "outputId": "be42cfe4-bb56-4053-ac12-586b0fa3b6ec"
   },
   "outputs": [
    {
     "name": "stdout",
     "output_type": "stream",
     "text": [
      "Model: \"model_2\"\n",
      "__________________________________________________________________________________________________\n",
      "Layer (type)                    Output Shape         Param #     Connected to                     \n",
      "==================================================================================================\n",
      "input_5 (InputLayer)            [(None, None)]       0                                            \n",
      "__________________________________________________________________________________________________\n",
      "input_6 (InputLayer)            [(None, None)]       0                                            \n",
      "__________________________________________________________________________________________________\n",
      "encoder_att_2 (Encoder_att)     ((None, None, 512),  7373056     input_5[0][0]                    \n",
      "__________________________________________________________________________________________________\n",
      "decoder_att_2 (Decoder_att)     ((None, None, 90), ( 10040922    input_6[0][0]                    \n",
      "                                                                 encoder_att_2[0][1]              \n",
      "                                                                 encoder_att_2[0][2]              \n",
      "                                                                 encoder_att_2[0][3]              \n",
      "                                                                 encoder_att_2[0][4]              \n",
      "                                                                 encoder_att_2[0][5]              \n",
      "                                                                 encoder_att_2[0][6]              \n",
      "                                                                 encoder_att_2[0][7]              \n",
      "                                                                 encoder_att_2[0][8]              \n",
      "                                                                 encoder_att_2[0][9]              \n",
      "                                                                 encoder_att_2[0][10]             \n",
      "                                                                 encoder_att_2[0][0]              \n",
      "==================================================================================================\n",
      "Total params: 17,413,978\n",
      "Trainable params: 17,413,978\n",
      "Non-trainable params: 0\n",
      "__________________________________________________________________________________________________\n"
     ]
    }
   ],
   "source": [
    "H_SIZE = 256     # размерность скрытого состояния LSTM\n",
    "EMB_SIZE = 256   # размерность эмбеддингов\n",
    "\n",
    "class Encoder_att(tf.keras.Model):\n",
    "    def __init__(self):\n",
    "        super().__init__()\n",
    "        self.embed = tf.keras.layers.Embedding(INPUT_VOCAB_SIZE, EMB_SIZE)\n",
    "        self.lstm_1 = tf.keras.layers.Bidirectional(tf.keras.layers.LSTM(H_SIZE, return_sequences=True, return_state=True))\n",
    "        self.lstm_2 = tf.keras.layers.Bidirectional(tf.keras.layers.LSTM(H_SIZE, return_sequences=True, return_state=True))\n",
    "        self.lstm_3 = tf.keras.layers.Bidirectional(tf.keras.layers.LSTM(H_SIZE, return_sequences=True, return_state=True))\n",
    "        self.lstm_4 = tf.keras.layers.Bidirectional(tf.keras.layers.LSTM(H_SIZE, return_sequences=True, return_state=True))\n",
    "        self.lstm_5 = tf.keras.layers.Bidirectional(tf.keras.layers.LSTM(H_SIZE, return_sequences=True, return_state=True))\n",
    "        \n",
    "    def call(self, x):\n",
    "        out = self.embed(x)\n",
    "        out, f_h_1, f_c_1, b_h_1, b_c_1 = self.lstm_1(out)\n",
    "        out, f_h_2, f_c_2, b_h_2, b_c_2 = self.lstm_2(out)\n",
    "        out, f_h_3, f_c_3, b_h_3, b_c_3 = self.lstm_3(out)\n",
    "        out, f_h_4, f_c_4, b_h_4, b_c_4 = self.lstm_4(out)\n",
    "        out, f_h_5, f_c_5, b_h_5, b_c_5 = self.lstm_5(out)\n",
    "        h_1 = tf.keras.layers.Concatenate()([f_h_1, b_h_1])\n",
    "        c_1 = tf.keras.layers.Concatenate()([f_c_1, b_c_1])\n",
    "        h_2 = tf.keras.layers.Concatenate()([f_h_2, b_h_2])\n",
    "        c_2 = tf.keras.layers.Concatenate()([f_c_2, b_c_2])\n",
    "        h_3 = tf.keras.layers.Concatenate()([f_h_3, b_h_3])\n",
    "        c_3 = tf.keras.layers.Concatenate()([f_c_3, b_c_3])\n",
    "        h_4 = tf.keras.layers.Concatenate()([f_h_4, b_h_4])\n",
    "        c_4 = tf.keras.layers.Concatenate()([f_c_4, b_c_4])\n",
    "        h_5 = tf.keras.layers.Concatenate()([f_h_5, b_h_5])\n",
    "        c_5 = tf.keras.layers.Concatenate()([f_c_5, b_c_5])\n",
    "        state_1 = (h_1, c_1)\n",
    "        state_2 = (h_2, c_2)\n",
    "        state_3 = (h_3, c_3)\n",
    "        state_4 = (h_4, c_4)\n",
    "        state_5 = (h_5, c_5)\n",
    "        return out, (state_1, state_2, state_3, state_4, state_5)\n",
    "\n",
    "class Decoder_att(tf.keras.Model):\n",
    "    def __init__(self):\n",
    "        super().__init__()\n",
    "        self.embed = tf.keras.layers.Embedding(TARGET_VOCAB_SIZE, EMB_SIZE)\n",
    "        self.lstm_1 = tf.keras.layers.LSTM(H_SIZE*2, return_sequences=True, return_state=True)\n",
    "        self.lstm_2 = tf.keras.layers.LSTM(H_SIZE*2, return_sequences=True, return_state=True)\n",
    "        self.lstm_3 = tf.keras.layers.LSTM(H_SIZE*2, return_sequences=True, return_state=True)\n",
    "        self.lstm_4 = tf.keras.layers.LSTM(H_SIZE*2, return_sequences=True, return_state=True)\n",
    "        self.lstm_5 = tf.keras.layers.LSTM(H_SIZE*2, return_sequences=True, return_state=True)\n",
    "        self.attention = tf.keras.layers.Attention()\n",
    "        self.fc = tf.keras.layers.Dense(TARGET_VOCAB_SIZE, activation='softmax')\n",
    "        \n",
    "    def call(self, x, init_state, encoder_outputs, training=True):\n",
    "        out = self.embed(x)\n",
    "        out, h_1, c_1 = self.lstm_1(out, initial_state=init_state[0])\n",
    "        out, h_2, c_2 = self.lstm_2(out, initial_state=init_state[1])\n",
    "        out, h_3, c_3 = self.lstm_3(out, initial_state=init_state[2])\n",
    "        out, h_4, c_4 = self.lstm_4(out, initial_state=init_state[3])\n",
    "        out, h_5, c_5 = self.lstm_5(out, initial_state=init_state[4])\n",
    "        out = self.attention([out, encoder_outputs], training=training)\n",
    "        out = self.fc(out)\n",
    "        state_1 = (h_1, c_1)\n",
    "        state_2 = (h_2, c_2)\n",
    "        state_3 = (h_3, c_3)\n",
    "        state_4 = (h_4, c_4)\n",
    "        state_5 = (h_5, c_5)\n",
    "        return out, (state_1, state_2, state_3, state_4, state_5)\n",
    "\n",
    "encoder_model_att = Encoder_att()\n",
    "decoder_model_att = Decoder_att()\n",
    "\n",
    "encoder_inputs_att = tf.keras.layers.Input(shape=(None,))\n",
    "decoder_inputs_att = tf.keras.layers.Input(shape=(None,))\n",
    "\n",
    "encoder_outputs_att, enc_state_att = encoder_model_att(encoder_inputs_att)\n",
    "decoder_outputs_att, _ = decoder_model_att(decoder_inputs_att, enc_state_att, encoder_outputs_att)\n",
    "\n",
    "seq2seq_att = tf.keras.Model([encoder_inputs_att, decoder_inputs_att], decoder_outputs_att)\n",
    "seq2seq_att.summary()"
   ]
  },
  {
   "cell_type": "markdown",
   "id": "eWpmwkazdySM",
   "metadata": {
    "id": "eWpmwkazdySM"
   },
   "source": [
    "Настроим логирование и создание чекпоинтов модели"
   ]
  },
  {
   "cell_type": "code",
   "execution_count": 54,
   "id": "dctPRihdduao",
   "metadata": {
    "id": "dctPRihdduao"
   },
   "outputs": [],
   "source": [
    "path = Path(\"/content/drive/MyDrive/chat_bot\")\n",
    "path.mkdir(exist_ok=True)\n",
    "cpt_filename = \"checkpoint_best.hdf5\"\n",
    "cpt_path =str(path / cpt_filename)\n",
    "\n",
    "checkpoint = tf.keras.callbacks.ModelCheckpoint(\n",
    "    cpt_path, \n",
    "    monitor='val_acc', \n",
    "    verbose=1, \n",
    "    save_best_only=True, \n",
    "    save_weights_only=True, \n",
    "    mode='max'\n",
    ")"
   ]
  },
  {
   "cell_type": "code",
   "execution_count": 55,
   "id": "385f88ad",
   "metadata": {
    "colab": {
     "base_uri": "https://localhost:8080/",
     "height": 653
    },
    "id": "385f88ad",
    "outputId": "18b5c960-3ed3-4d00-d323-776f7a1dbc8d"
   },
   "outputs": [
    {
     "data": {
      "image/png": "[encoded data removed]",
      "text/plain": [
       "<Figure size 864x576 with 2 Axes>"
      ]
     },
     "metadata": {
      "needs_background": "light",
      "tags": []
     },
     "output_type": "display_data"
    },
    {
     "name": "stdout",
     "output_type": "stream",
     "text": [
      "accuracy\n",
      "\taccuracy         \t (min:    0.531, max:    0.952, cur:    0.952)\n",
      "Loss\n",
      "\tloss             \t (min:    0.163, max:    2.492, cur:    0.164)\n"
     ]
    }
   ],
   "source": [
    "BATCH_SIZE = 512\n",
    "EPOCHS = 200\n",
    "\n",
    "loss = tf.losses.SparseCategoricalCrossentropy()\n",
    "seq2seq_att.compile(optimizer='rmsprop', loss=loss, metrics=['accuracy'])\n",
    "history = seq2seq_att.fit([encoder_input_seqs, decoder_input_seqs], decoder_target_seqs,\n",
    "          batch_size=BATCH_SIZE,\n",
    "          epochs=EPOCHS,\n",
    "          callbacks=[PlotLossesCallback()])"
   ]
  },
  {
   "cell_type": "markdown",
   "id": "00iZHNhk4UZX",
   "metadata": {
    "id": "00iZHNhk4UZX"
   },
   "source": [
    "Сделаем дополнительно сохранение модели в конце обучения"
   ]
  },
  {
   "cell_type": "code",
   "execution_count": 56,
   "id": "e5a48df6",
   "metadata": {
    "id": "e5a48df6"
   },
   "outputs": [],
   "source": [
    "seq2seq_att.save_weights('/content/drive/MyDrive/model_att_saved')"
   ]
  },
  {
   "cell_type": "markdown",
   "id": "QXfOOCLZgZvu",
   "metadata": {
    "id": "QXfOOCLZgZvu"
   },
   "source": [
    "**Инференс модели**"
   ]
  },
  {
   "cell_type": "markdown",
   "id": "A5lrzuO9gwPK",
   "metadata": {
    "id": "A5lrzuO9gwPK"
   },
   "source": [
    "Создадим функцию для инференса модели"
   ]
  },
  {
   "cell_type": "code",
   "execution_count": 57,
   "id": "3801320b",
   "metadata": {
    "id": "3801320b"
   },
   "outputs": [],
   "source": [
    "def seq2seq_att_inference(input_seq):\n",
    "\n",
    "    output, state = encoder_model_att(input_seq)\n",
    "    target_seq = np.array([[target_char2idx['<START>']]])\n",
    "    decoded_sentence = ''\n",
    "    \n",
    "    while True:\n",
    "        output_tokens, state = decoder_model_att(target_seq, state, output, training=False)\n",
    "        sampled_token_index = np.argmax(np.array(output_tokens[0, -1, :]))\n",
    "        sampled_char = target_idx2char[sampled_token_index]\n",
    "        decoded_sentence += sampled_char\n",
    "\n",
    "        if (sampled_char == '<END>' or\n",
    "           len(decoded_sentence) > max_dec_seq_length):\n",
    "            break\n",
    "\n",
    "        target_seq = np.array([[sampled_token_index]])\n",
    "\n",
    "    return decoded_sentence"
   ]
  },
  {
   "cell_type": "markdown",
   "id": "Fl5CbpF9grDx",
   "metadata": {
    "id": "Fl5CbpF9grDx"
   },
   "source": [
    "Проверим работу чат-бота. Создадим функцию, которая добавит паддинг к входящим данным"
   ]
  },
  {
   "cell_type": "code",
   "execution_count": 58,
   "id": "5ab567eb",
   "metadata": {
    "colab": {
     "base_uri": "https://localhost:8080/"
    },
    "id": "5ab567eb",
    "outputId": "4e25c3fb-45fb-4be2-84b7-bf6620f71fa9"
   },
   "outputs": [
    {
     "name": "stdout",
     "output_type": "stream",
     "text": [
      "Line:\n",
      "Hello!\n",
      "Reply:\n",
      "A nieeanep-it'po.\n",
      "------------------\n",
      "Line:\n",
      "Hi there!\n",
      "Reply:\n",
      "No.  We straiendDed hive a foon.\n",
      "------------------\n",
      "Line:\n",
      "What is your name?\n",
      "Reply:\n",
      "I don't know. I guess it was...\n",
      "------------------\n",
      "Line:\n",
      "How do you do?\n",
      "Reply:\n",
      "A pened-tWet a book gleam.?\n",
      "------------------\n",
      "Line:\n",
      "How old are you?\n",
      "Reply:\n",
      "About twenty minutes.\n",
      "------------------\n",
      "Line:\n",
      "What is your favourite move?\n",
      "Reply:\n",
      "It's cool, I'm just looking.\n",
      "------------------\n",
      "Line:\n",
      "Tell me something new\n",
      "Reply:\n",
      "Yeah....\n",
      "------------------\n",
      "Line:\n",
      "What is new?\n",
      "Reply:\n",
      "I don't know. I guess it was...\n",
      "------------------\n"
     ]
    }
   ],
   "source": [
    "def next_line(line):\n",
    "    int_seq = np.array([input_char2idx[c] for c in line])\n",
    "    int_seq_pad = np.zeros(max_enc_seq_length)\n",
    "    int_seq_pad[:len(int_seq)] = int_seq\n",
    "    int_seq_pad = int_seq_pad.reshape(1, -1)\n",
    "    decoded = seq2seq_att_inference(int_seq_pad)\n",
    "    if decoded[-5:] == '<END>':\n",
    "        decoded = decoded[:-5]\n",
    "    decoded = decoded.rstrip()\n",
    "    return decoded\n",
    "\n",
    "print(f\"Line:\\nHello!\\nReply:\\n{next_line('Hello!')}\\n------------------\")\n",
    "print(f\"Line:\\nHi there!\\nReply:\\n{next_line('Hi there!')}\\n------------------\")\n",
    "print(f\"Line:\\nWhat is your name?\\nReply:\\n{next_line('What is your name?')}\\n------------------\")\n",
    "print(f\"Line:\\nHow do you do?\\nReply:\\n{next_line('How do you do?')}\\n------------------\")\n",
    "print(f\"Line:\\nHow old are you?\\nReply:\\n{next_line('How old are you?')}\\n------------------\")\n",
    "print(f\"Line:\\nWhat is your favourite move?\\nReply:\\n{next_line('What is your favourite move?')}\\n------------------\")\n",
    "print(f\"Line:\\nTell me something new\\nReply:\\n{next_line('Tell me something new')}\\n------------------\")\n",
    "print(f\"Line:\\nWhat is new?\\nReply:\\n{next_line('What is new?')}\\n------------------\")"
   ]
  }
 ],
 "metadata": {
  "accelerator": "GPU",
  "colab": {
   "collapsed_sections": [],
   "name": "HW_15.ipynb",
   "provenance": []
  },
  "kernelspec": {
   "display_name": "Python 3",
   "language": "python",
   "name": "python3"
  },
  "language_info": {
   "codemirror_mode": {
    "name": "ipython",
    "version": 3
   },
   "file_extension": ".py",
   "mimetype": "text/x-python",
   "name": "python",
   "nbconvert_exporter": "python",
   "pygments_lexer": "ipython3",
   "version": "3.8.8"
  }
 },
 "nbformat": 4,
 "nbformat_minor": 5
}
