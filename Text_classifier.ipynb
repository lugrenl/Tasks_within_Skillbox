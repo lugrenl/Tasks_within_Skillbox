{
 "cells": [
  {
   "cell_type": "code",
   "execution_count": 1,
   "id": "a4e32797",
   "metadata": {},
   "outputs": [
    {
     "name": "stdout",
     "output_type": "stream",
     "text": [
      "2.4.1\n"
     ]
    }
   ],
   "source": [
    "import pandas as pd\n",
    "import numpy as np\n",
    "import os\n",
    "import nltk\n",
    "import string\n",
    "import tensorflow as tf\n",
    "\n",
    "from tensorflow import keras\n",
    "from sklearn.preprocessing import OrdinalEncoder\n",
    "from sklearn.model_selection import train_test_split\n",
    "from itertools import chain\n",
    "from pathlib import Path\n",
    "\n",
    "from tensorflow.keras.layers import Embedding\n",
    "from tensorflow.keras import optimizers\n",
    "from tensorflow.keras.layers import Dense, concatenate, Activation, Dropout\n",
    "from tensorflow.keras.models import Model\n",
    "from tensorflow.keras.layers import Conv1D\n",
    "from tensorflow.keras.layers import GlobalMaxPooling1D\n",
    "from livelossplot.tf_keras import PlotLossesCallback\n",
    "from tensorflow.keras.layers import Input\n",
    "\n",
    "import matplotlib.pyplot as plt\n",
    "%matplotlib inline\n",
    "\n",
    "physical_devices = tf.config.list_physical_devices('GPU')\n",
    "tf.config.experimental.set_memory_growth(physical_devices[0], True)\n",
    "\n",
    "print(tf.__version__)"
   ]
  },
  {
   "cell_type": "code",
   "execution_count": 2,
   "id": "71359181",
   "metadata": {},
   "outputs": [
    {
     "name": "stderr",
     "output_type": "stream",
     "text": [
      "[nltk_data] Downloading package punkt to ....\n",
      "[nltk_data]   Package punkt is already up-to-date!\n",
      "[nltk_data] Downloading package stopwords to /home/user/nltk_data...\n",
      "[nltk_data]   Package stopwords is already up-to-date!\n"
     ]
    },
    {
     "data": {
      "text/plain": [
       "True"
      ]
     },
     "execution_count": 2,
     "metadata": {},
     "output_type": "execute_result"
    }
   ],
   "source": [
    "nltk.download('punkt', download_dir='.')\n",
    "nltk.download('stopwords')"
   ]
  },
  {
   "cell_type": "markdown",
   "id": "5b35b55b",
   "metadata": {},
   "source": [
    "**Определим структуру данных**"
   ]
  },
  {
   "cell_type": "code",
   "execution_count": 3,
   "id": "18b03af2",
   "metadata": {
    "scrolled": true
   },
   "outputs": [
    {
     "name": "stdout",
     "output_type": "stream",
     "text": [
      "1 ::: Oscar et la dame rose (2009) ::: drama ::: Listening in to a conversation between his doctor and parents, 10-year-old Oscar learns what nobody has the courage to tell him. He only has a few weeks to live. Furious, he refuses to speak to anyone except straight-talking Rose, the lady in pink he meets on the hospital stairs. As Christmas approaches, Rose uses her fantastical experiences as a professional wrestler, her imagination, wit and charm to allow Oscar to live life and love to the full, in the company of his friends Pop Corn, Einstein, Bacon and childhood sweetheart Peggy Blue.\r\n",
      "2 ::: Cupid (1997) ::: thriller ::: A brother and sister with a past incestuous relationship have a current murderous relationship. He murders the women who reject him and she murders the women who get too close to him.\r\n",
      "3 ::: Young, Wild and Wonderful (1980) ::: adult ::: As the bus empties the students for their field trip to the Museum of Natural History, little does the tour guide suspect that the students are there for more than just another tour. First, during the lecture films, the coeds drift into dreams of the most erotic fantasies one can imagine. After the films, they release the emotion of the fantasies in the most erotic and uncommon ways. One slips off to the curator's office for a little \"acquisition. \" Another finds the anthropologist to see what bones can be identified. Even the head teacher isn't immune. Soon the tour is over, but as the bus departs, everyone admits it was quite an education.\r\n",
      "4 ::: The Secret Sin (1915) ::: drama ::: To help their unemployed father make ends meet, Edith and her twin sister Grace work as seamstresses . An invalid, Grace falls prey to the temptations of Chinatown opium and becomes an addict, a condition worsened by a misguided physician who prescribes morphine to ease her pain. When their father strikes oil, the family enjoys a new prosperity and the sisters meet the eligible Jack Herron, a fellow oil prospector. To Grace's shock, Jack falls in love with Edith and in her jealousy, Grace tells Jack that Edith, not she, has a drug problem. Hinting that her sister will soon need more morphine, Grace arranges for a dinner in Chinatown with the couple. While her sister and Jack dance, Grace slips away to an opium den. Edith follows her, but ends up in the wrong den and is arrested in an ensuing drug raid. After he bails her out of jail, Edith takes an angry Jack to search for Grace and stumbles across her half-conscious body lying in the street. The truth about the sisters is revealed, and after sending Grace to a sanitarium in the country, Jack and Edith are married.\r\n",
      "5 ::: The Unrecovered (2007) ::: drama ::: The film's title refers not only to the un-recovered bodies at ground zero, but also to the state of the nation at large. Set in the hallucinatory period of time between September 11 and Halloween of 2001, The Unrecovered examines the effect of terror on the average mind, the way a state of heightened anxiety and/or alertness can cause the average person to make the sort of imaginative connections that are normally made only by artists and conspiracy theorists-both of whom figure prominently in this film. The Unrecovered explores the way in which irony, empathy, and paranoia relate to one another in the wake of 9/11.\r\n",
      "6 ::: Quality Control (2011) ::: documentary ::: Quality Control consists of a series of 16mm single take shots filmed in the summer of 2010,over a two day period, in a dry cleaners facility in Pritchard, Alabama, near Mobile, Quality Control exhibits the acts as well the conditions around labor and showcases, in Everson's words \"the fine folks of Alabama producing a superior product.\" It is similar stylistically, in form and rhythm, to certain scenarios in Everson's award-winning and critically acclaimed previous films, including Erie (IFFR 2010) and in thematic concerns to several other short form works which follow the daily, quotidian tasks of workers in rest and in motion, and is an oblique sequel, ten years hence, to Everson's Creative Capital granted project A Week in the Hole (2001), which focused on an employee's adjustment to materials, time, space and personnel. Quality Control consists of a series of 16mm single take shots, filmed over a two day period in the summer of 2010, in a dry cleaners facility in Pritchard, Alabama, near Mobile. Quality Control exhibits the acts as well the conditions around labor. It is similar stylistically, in form and rhythm, to certain scenarios in Everson's award-winning and critically acclaimed previous films, including Erie (IFFR 2010) and in thematic concerns to several other short form works which follow the daily, quotidian tasks of workers in rest and in motion, including the factory routine captured in the short film A Week in the Hole (2001), which focused on an employee's adjustment to materials, time, space and personnel. Principal cast includes Shay Wright and Annette Speight.\r\n",
      "7 ::: \"Pink Slip\" (2009) ::: comedy ::: In tough economic times Max and Joey have all but run out of ideas until, they discover that senior housing is cheap. Not only that but Max's aunt just kicked the bucket and no one knows yet. In a hilarious series that always keeps you on your toes, the two friends take us on a cross-dressing, desperate and endearing ride through being broke.\r\n",
      "8 ::: One Step Away (1985) ::: crime ::: Ron Petrie (Keanu Reeves) is a troubled teen whose life is hanging by a thread, as he's on the verge of suspension from school, subject to arrest for breaking and entering, and the cause of his single mother's impending eviction from her apartment. Unless he can find a resolution, his only option seems to be life of street crime.\r\n",
      "9 ::: \"Desperate Hours\" (2016) ::: reality-tv ::: A sudden calamitous event, causing great loss of life, damage, or hardship, like a flood, a tornado, an airplane crash, or an earthquake. This is not only a documentary but a live account of dramatic events in real time. In this unique 13- part series you'll be an eyewitness to some of the greatest disasters of the last 100 years and you will have a rare opportunity to compare disasters across time and distance and decide which you think is the worst.\r\n",
      "10 ::: Spirits (2014/I) ::: horror ::: Four high school students embark on a terrifying journey through ShadowView Manor 2 years after a horrifying séance gone wrong. Intern Raven, decides to reconnect with her elementary school friends Kota, William, and Jessica by bringing them to her new workplace, ShadowView Manor for a bit of paranormal investigating. Hearing more forbidden secrets from the night janitor sends them into a dark descending spiral of terror.\r\n"
     ]
    }
   ],
   "source": [
    "!head train_data.txt"
   ]
  },
  {
   "cell_type": "markdown",
   "id": "afcf637d",
   "metadata": {},
   "source": [
    "**Сформируем тренировочный и тестовый датафреймы. Закодируем категориальный признак.**"
   ]
  },
  {
   "cell_type": "code",
   "execution_count": 4,
   "id": "a0f7c0ff",
   "metadata": {},
   "outputs": [],
   "source": [
    "ord_enc = OrdinalEncoder()"
   ]
  },
  {
   "cell_type": "code",
   "execution_count": 5,
   "id": "d62a6cfb",
   "metadata": {},
   "outputs": [
    {
     "data": {
      "text/html": [
       "<div>\n",
       "<style scoped>\n",
       "    .dataframe tbody tr th:only-of-type {\n",
       "        vertical-align: middle;\n",
       "    }\n",
       "\n",
       "    .dataframe tbody tr th {\n",
       "        vertical-align: top;\n",
       "    }\n",
       "\n",
       "    .dataframe thead th {\n",
       "        text-align: right;\n",
       "    }\n",
       "</style>\n",
       "<table border=\"1\" class=\"dataframe\">\n",
       "  <thead>\n",
       "    <tr style=\"text-align: right;\">\n",
       "      <th></th>\n",
       "      <th>ID</th>\n",
       "      <th>Title</th>\n",
       "      <th>Genre</th>\n",
       "      <th>Description</th>\n",
       "      <th>Genre_cat</th>\n",
       "    </tr>\n",
       "  </thead>\n",
       "  <tbody>\n",
       "    <tr>\n",
       "      <th>0</th>\n",
       "      <td>1</td>\n",
       "      <td>Oscar et la dame rose (2009)</td>\n",
       "      <td>drama</td>\n",
       "      <td>Listening in to a conversation between his do...</td>\n",
       "      <td>8.0</td>\n",
       "    </tr>\n",
       "    <tr>\n",
       "      <th>1</th>\n",
       "      <td>2</td>\n",
       "      <td>Cupid (1997)</td>\n",
       "      <td>thriller</td>\n",
       "      <td>A brother and sister with a past incestuous r...</td>\n",
       "      <td>24.0</td>\n",
       "    </tr>\n",
       "    <tr>\n",
       "      <th>2</th>\n",
       "      <td>3</td>\n",
       "      <td>Young, Wild and Wonderful (1980)</td>\n",
       "      <td>adult</td>\n",
       "      <td>As the bus empties the students for their fie...</td>\n",
       "      <td>1.0</td>\n",
       "    </tr>\n",
       "    <tr>\n",
       "      <th>3</th>\n",
       "      <td>4</td>\n",
       "      <td>The Secret Sin (1915)</td>\n",
       "      <td>drama</td>\n",
       "      <td>To help their unemployed father make ends mee...</td>\n",
       "      <td>8.0</td>\n",
       "    </tr>\n",
       "    <tr>\n",
       "      <th>4</th>\n",
       "      <td>5</td>\n",
       "      <td>The Unrecovered (2007)</td>\n",
       "      <td>drama</td>\n",
       "      <td>The film's title refers not only to the un-re...</td>\n",
       "      <td>8.0</td>\n",
       "    </tr>\n",
       "  </tbody>\n",
       "</table>\n",
       "</div>"
      ],
      "text/plain": [
       "   ID                               Title       Genre  \\\n",
       "0   1       Oscar et la dame rose (2009)       drama    \n",
       "1   2                       Cupid (1997)    thriller    \n",
       "2   3   Young, Wild and Wonderful (1980)       adult    \n",
       "3   4              The Secret Sin (1915)       drama    \n",
       "4   5             The Unrecovered (2007)       drama    \n",
       "\n",
       "                                         Description  Genre_cat  \n",
       "0   Listening in to a conversation between his do...        8.0  \n",
       "1   A brother and sister with a past incestuous r...       24.0  \n",
       "2   As the bus empties the students for their fie...        1.0  \n",
       "3   To help their unemployed father make ends mee...        8.0  \n",
       "4   The film's title refers not only to the un-re...        8.0  "
      ]
     },
     "execution_count": 5,
     "metadata": {},
     "output_type": "execute_result"
    }
   ],
   "source": [
    "train_df = pd.read_csv('train_data.txt', sep=':::', engine='python', names=['ID', 'Title', 'Genre', 'Description'])\n",
    "train_df.drop(train_df[train_df.Description.isnull()].index, inplace=True)\n",
    "train_df['Genre_cat'] = ord_enc.fit_transform(train_df[['Genre']])\n",
    "train_df.head()"
   ]
  },
  {
   "cell_type": "code",
   "execution_count": 6,
   "id": "258a43c9",
   "metadata": {},
   "outputs": [
    {
     "data": {
      "text/html": [
       "<div>\n",
       "<style scoped>\n",
       "    .dataframe tbody tr th:only-of-type {\n",
       "        vertical-align: middle;\n",
       "    }\n",
       "\n",
       "    .dataframe tbody tr th {\n",
       "        vertical-align: top;\n",
       "    }\n",
       "\n",
       "    .dataframe thead th {\n",
       "        text-align: right;\n",
       "    }\n",
       "</style>\n",
       "<table border=\"1\" class=\"dataframe\">\n",
       "  <thead>\n",
       "    <tr style=\"text-align: right;\">\n",
       "      <th></th>\n",
       "      <th>ID</th>\n",
       "      <th>Title</th>\n",
       "      <th>Genre</th>\n",
       "      <th>Description</th>\n",
       "      <th>Genre_cat</th>\n",
       "    </tr>\n",
       "  </thead>\n",
       "  <tbody>\n",
       "    <tr>\n",
       "      <th>0</th>\n",
       "      <td>1</td>\n",
       "      <td>Edgar's Lunch (1998)</td>\n",
       "      <td>thriller</td>\n",
       "      <td>L.R. Brane loves his life - his car, his apar...</td>\n",
       "      <td>24.0</td>\n",
       "    </tr>\n",
       "    <tr>\n",
       "      <th>1</th>\n",
       "      <td>2</td>\n",
       "      <td>La guerra de papá (1977)</td>\n",
       "      <td>comedy</td>\n",
       "      <td>Spain, March 1964: Quico is a very naughty ch...</td>\n",
       "      <td>5.0</td>\n",
       "    </tr>\n",
       "    <tr>\n",
       "      <th>2</th>\n",
       "      <td>3</td>\n",
       "      <td>Off the Beaten Track (2010)</td>\n",
       "      <td>documentary</td>\n",
       "      <td>One year in the life of Albin and his family ...</td>\n",
       "      <td>7.0</td>\n",
       "    </tr>\n",
       "    <tr>\n",
       "      <th>3</th>\n",
       "      <td>4</td>\n",
       "      <td>Meu Amigo Hindu (2015)</td>\n",
       "      <td>drama</td>\n",
       "      <td>His father has died, he hasn't spoken with hi...</td>\n",
       "      <td>8.0</td>\n",
       "    </tr>\n",
       "    <tr>\n",
       "      <th>4</th>\n",
       "      <td>5</td>\n",
       "      <td>Er nu zhai (1955)</td>\n",
       "      <td>drama</td>\n",
       "      <td>Before he was known internationally as a mart...</td>\n",
       "      <td>8.0</td>\n",
       "    </tr>\n",
       "  </tbody>\n",
       "</table>\n",
       "</div>"
      ],
      "text/plain": [
       "   ID                          Title          Genre  \\\n",
       "0   1          Edgar's Lunch (1998)       thriller    \n",
       "1   2      La guerra de papá (1977)         comedy    \n",
       "2   3   Off the Beaten Track (2010)    documentary    \n",
       "3   4        Meu Amigo Hindu (2015)          drama    \n",
       "4   5             Er nu zhai (1955)          drama    \n",
       "\n",
       "                                         Description  Genre_cat  \n",
       "0   L.R. Brane loves his life - his car, his apar...       24.0  \n",
       "1   Spain, March 1964: Quico is a very naughty ch...        5.0  \n",
       "2   One year in the life of Albin and his family ...        7.0  \n",
       "3   His father has died, he hasn't spoken with hi...        8.0  \n",
       "4   Before he was known internationally as a mart...        8.0  "
      ]
     },
     "execution_count": 6,
     "metadata": {},
     "output_type": "execute_result"
    }
   ],
   "source": [
    "test_df = pd.read_csv('test_data_solution.txt', sep=':::', engine='python', names=['ID', 'Title', 'Genre', 'Description'])\n",
    "test_df.drop(test_df[test_df.Description.isnull()].index, inplace=True)\n",
    "test_df['Genre_cat'] = ord_enc.fit_transform(test_df[['Genre']])\n",
    "test_df.head()"
   ]
  },
  {
   "cell_type": "markdown",
   "id": "b069f587",
   "metadata": {},
   "source": [
    "**Сформируем список стоп-слов**"
   ]
  },
  {
   "cell_type": "code",
   "execution_count": 7,
   "id": "9677da29",
   "metadata": {},
   "outputs": [],
   "source": [
    "# stop_words = nltk.corpus.stopwords.words('english')\n",
    "\n",
    "# стоп-слова\n",
    "stop_words = [\n",
    "    'i', 'me', 'my', 'myself', 'we', 'our', 'ours', 'ourselves', 'you', \"you're\", \"you've\", \"you'll\", \"you'd\",\n",
    "    'your', 'yours', 'yourself', 'yourselves', 'he', 'him', 'his', 'himself', 'she', \"she's\", 'her', 'hers',\n",
    "    'herself', 'it', \"it's\", 'its', 'itself', 'they', 'them', 'their', 'theirs', 'themselves', 'what', 'which',\n",
    "    'who', 'whom', 'this', 'that', \"that'll\", 'these', 'those', 'am', 'is', 'are', 'was', 'were', 'be', 'been',\n",
    "    'being', 'have', 'has', 'had', 'having', 'do', 'does', 'did', 'doing', 'a', 'an', 'the', 'and', 'but', 'if',\n",
    "    'or', 'because', 'as', 'until', 'while', 'of', 'at', 'by', 'for', 'with', 'about', 'against', 'between',\n",
    "    'into', 'through', 'during', 'before', 'after', 'above', 'below', 'to', 'from', 'up', 'down', 'in', 'out',\n",
    "    'on', 'off', 'over', 'under', 'again', 'further', 'then', 'once', 'here', 'there', 'when', 'where', 'why',\n",
    "    'how', 'all', 'any', 'both', 'each', 'few', 'more', 'most', 'other', 'some', 'such', 'no', 'nor', 'not',\n",
    "    'only', 'own', 'same', 'so', 'than', 'too', 'very', 's', 't', 'can', 'will', 'just', 'don', \"don't\", 'shold',\n",
    "    \"should've\", 'now', 'd', 'll', 'm', 'o', 're', 've', 'y', 'ain', 'aren', \"aren't\", 'couldn', \"couldn't\",\n",
    "    'didn', \"didn't\", 'doesn', \"doesn't\", 'hadn', \"hadn't\", 'hasn', \"hasn't\", 'haven', \"haven't\", 'isn', \"isn't\",\n",
    "    'ma', 'mightn', \"mightn't\", 'mustn', \"mustn't\", 'needn', \"needn't\", 'shan', \"shan't\", 'shouldn', \"shouldn't\",\n",
    "    'wasn', \"wasn't\", 'weren', \"weren't\", 'won', \"won't\", 'wouldn', \"wouldn't\",\n",
    "]"
   ]
  },
  {
   "cell_type": "markdown",
   "id": "ffa4f524",
   "metadata": {},
   "source": [
    "**Создадим функцию для токенизации**"
   ]
  },
  {
   "cell_type": "code",
   "execution_count": 8,
   "id": "38d3e6bc",
   "metadata": {},
   "outputs": [],
   "source": [
    "def text_tokenizer(raw_text: str):\n",
    "    tokenize_text = nltk.word_tokenize(raw_text)\n",
    "    tokens = [i.lower() for i in tokenize_text if (i not in string.punctuation)]\n",
    "    filtered_tokens = [i for i in tokens if (i not in stop_words)]\n",
    "    return filtered_tokens"
   ]
  },
  {
   "cell_type": "markdown",
   "id": "efddb104",
   "metadata": {},
   "source": [
    "**Применим функцию к столбцу датафрейма, содержащему описания**"
   ]
  },
  {
   "cell_type": "code",
   "execution_count": 9,
   "id": "5532a222",
   "metadata": {},
   "outputs": [],
   "source": [
    "tokenized_descriptions_train = train_df.Description.apply(text_tokenizer)\n",
    "tokenized_descriptions_test = test_df.Description.apply(text_tokenizer)"
   ]
  },
  {
   "cell_type": "code",
   "execution_count": 10,
   "id": "e42882e5",
   "metadata": {},
   "outputs": [
    {
     "data": {
      "text/html": [
       "<div>\n",
       "<style scoped>\n",
       "    .dataframe tbody tr th:only-of-type {\n",
       "        vertical-align: middle;\n",
       "    }\n",
       "\n",
       "    .dataframe tbody tr th {\n",
       "        vertical-align: top;\n",
       "    }\n",
       "\n",
       "    .dataframe thead th {\n",
       "        text-align: right;\n",
       "    }\n",
       "</style>\n",
       "<table border=\"1\" class=\"dataframe\">\n",
       "  <thead>\n",
       "    <tr style=\"text-align: right;\">\n",
       "      <th></th>\n",
       "      <th>ID</th>\n",
       "      <th>Title</th>\n",
       "      <th>Genre</th>\n",
       "      <th>Description</th>\n",
       "      <th>Genre_cat</th>\n",
       "      <th>Tokenized_descriptions</th>\n",
       "    </tr>\n",
       "  </thead>\n",
       "  <tbody>\n",
       "    <tr>\n",
       "      <th>0</th>\n",
       "      <td>1</td>\n",
       "      <td>Oscar et la dame rose (2009)</td>\n",
       "      <td>drama</td>\n",
       "      <td>Listening in to a conversation between his do...</td>\n",
       "      <td>8.0</td>\n",
       "      <td>[listening, conversation, doctor, parents, 10-...</td>\n",
       "    </tr>\n",
       "    <tr>\n",
       "      <th>1</th>\n",
       "      <td>2</td>\n",
       "      <td>Cupid (1997)</td>\n",
       "      <td>thriller</td>\n",
       "      <td>A brother and sister with a past incestuous r...</td>\n",
       "      <td>24.0</td>\n",
       "      <td>[brother, sister, past, incestuous, relationsh...</td>\n",
       "    </tr>\n",
       "    <tr>\n",
       "      <th>2</th>\n",
       "      <td>3</td>\n",
       "      <td>Young, Wild and Wonderful (1980)</td>\n",
       "      <td>adult</td>\n",
       "      <td>As the bus empties the students for their fie...</td>\n",
       "      <td>1.0</td>\n",
       "      <td>[bus, empties, students, field, trip, museum, ...</td>\n",
       "    </tr>\n",
       "    <tr>\n",
       "      <th>3</th>\n",
       "      <td>4</td>\n",
       "      <td>The Secret Sin (1915)</td>\n",
       "      <td>drama</td>\n",
       "      <td>To help their unemployed father make ends mee...</td>\n",
       "      <td>8.0</td>\n",
       "      <td>[help, unemployed, father, make, ends, meet, e...</td>\n",
       "    </tr>\n",
       "    <tr>\n",
       "      <th>4</th>\n",
       "      <td>5</td>\n",
       "      <td>The Unrecovered (2007)</td>\n",
       "      <td>drama</td>\n",
       "      <td>The film's title refers not only to the un-re...</td>\n",
       "      <td>8.0</td>\n",
       "      <td>[film, 's, title, refers, un-recovered, bodies...</td>\n",
       "    </tr>\n",
       "  </tbody>\n",
       "</table>\n",
       "</div>"
      ],
      "text/plain": [
       "   ID                               Title       Genre  \\\n",
       "0   1       Oscar et la dame rose (2009)       drama    \n",
       "1   2                       Cupid (1997)    thriller    \n",
       "2   3   Young, Wild and Wonderful (1980)       adult    \n",
       "3   4              The Secret Sin (1915)       drama    \n",
       "4   5             The Unrecovered (2007)       drama    \n",
       "\n",
       "                                         Description  Genre_cat  \\\n",
       "0   Listening in to a conversation between his do...        8.0   \n",
       "1   A brother and sister with a past incestuous r...       24.0   \n",
       "2   As the bus empties the students for their fie...        1.0   \n",
       "3   To help their unemployed father make ends mee...        8.0   \n",
       "4   The film's title refers not only to the un-re...        8.0   \n",
       "\n",
       "                              Tokenized_descriptions  \n",
       "0  [listening, conversation, doctor, parents, 10-...  \n",
       "1  [brother, sister, past, incestuous, relationsh...  \n",
       "2  [bus, empties, students, field, trip, museum, ...  \n",
       "3  [help, unemployed, father, make, ends, meet, e...  \n",
       "4  [film, 's, title, refers, un-recovered, bodies...  "
      ]
     },
     "execution_count": 10,
     "metadata": {},
     "output_type": "execute_result"
    }
   ],
   "source": [
    "train_df['Tokenized_descriptions'] = tokenized_descriptions_train\n",
    "train_df.head()"
   ]
  },
  {
   "cell_type": "code",
   "execution_count": 11,
   "id": "c8a19d7b",
   "metadata": {},
   "outputs": [
    {
     "data": {
      "text/html": [
       "<div>\n",
       "<style scoped>\n",
       "    .dataframe tbody tr th:only-of-type {\n",
       "        vertical-align: middle;\n",
       "    }\n",
       "\n",
       "    .dataframe tbody tr th {\n",
       "        vertical-align: top;\n",
       "    }\n",
       "\n",
       "    .dataframe thead th {\n",
       "        text-align: right;\n",
       "    }\n",
       "</style>\n",
       "<table border=\"1\" class=\"dataframe\">\n",
       "  <thead>\n",
       "    <tr style=\"text-align: right;\">\n",
       "      <th></th>\n",
       "      <th>ID</th>\n",
       "      <th>Title</th>\n",
       "      <th>Genre</th>\n",
       "      <th>Description</th>\n",
       "      <th>Genre_cat</th>\n",
       "      <th>Tokenized_descriptions</th>\n",
       "    </tr>\n",
       "  </thead>\n",
       "  <tbody>\n",
       "    <tr>\n",
       "      <th>0</th>\n",
       "      <td>1</td>\n",
       "      <td>Edgar's Lunch (1998)</td>\n",
       "      <td>thriller</td>\n",
       "      <td>L.R. Brane loves his life - his car, his apar...</td>\n",
       "      <td>24.0</td>\n",
       "      <td>[l.r, brane, loves, life, car, apartment, job,...</td>\n",
       "    </tr>\n",
       "    <tr>\n",
       "      <th>1</th>\n",
       "      <td>2</td>\n",
       "      <td>La guerra de papá (1977)</td>\n",
       "      <td>comedy</td>\n",
       "      <td>Spain, March 1964: Quico is a very naughty ch...</td>\n",
       "      <td>5.0</td>\n",
       "      <td>[spain, march, 1964, quico, naughty, child, th...</td>\n",
       "    </tr>\n",
       "    <tr>\n",
       "      <th>2</th>\n",
       "      <td>3</td>\n",
       "      <td>Off the Beaten Track (2010)</td>\n",
       "      <td>documentary</td>\n",
       "      <td>One year in the life of Albin and his family ...</td>\n",
       "      <td>7.0</td>\n",
       "      <td>[one, year, life, albin, family, shepherds, no...</td>\n",
       "    </tr>\n",
       "    <tr>\n",
       "      <th>3</th>\n",
       "      <td>4</td>\n",
       "      <td>Meu Amigo Hindu (2015)</td>\n",
       "      <td>drama</td>\n",
       "      <td>His father has died, he hasn't spoken with hi...</td>\n",
       "      <td>8.0</td>\n",
       "      <td>[father, died, n't, spoken, brother, 10, years...</td>\n",
       "    </tr>\n",
       "    <tr>\n",
       "      <th>4</th>\n",
       "      <td>5</td>\n",
       "      <td>Er nu zhai (1955)</td>\n",
       "      <td>drama</td>\n",
       "      <td>Before he was known internationally as a mart...</td>\n",
       "      <td>8.0</td>\n",
       "      <td>[known, internationally, martial, arts, supers...</td>\n",
       "    </tr>\n",
       "  </tbody>\n",
       "</table>\n",
       "</div>"
      ],
      "text/plain": [
       "   ID                          Title          Genre  \\\n",
       "0   1          Edgar's Lunch (1998)       thriller    \n",
       "1   2      La guerra de papá (1977)         comedy    \n",
       "2   3   Off the Beaten Track (2010)    documentary    \n",
       "3   4        Meu Amigo Hindu (2015)          drama    \n",
       "4   5             Er nu zhai (1955)          drama    \n",
       "\n",
       "                                         Description  Genre_cat  \\\n",
       "0   L.R. Brane loves his life - his car, his apar...       24.0   \n",
       "1   Spain, March 1964: Quico is a very naughty ch...        5.0   \n",
       "2   One year in the life of Albin and his family ...        7.0   \n",
       "3   His father has died, he hasn't spoken with hi...        8.0   \n",
       "4   Before he was known internationally as a mart...        8.0   \n",
       "\n",
       "                              Tokenized_descriptions  \n",
       "0  [l.r, brane, loves, life, car, apartment, job,...  \n",
       "1  [spain, march, 1964, quico, naughty, child, th...  \n",
       "2  [one, year, life, albin, family, shepherds, no...  \n",
       "3  [father, died, n't, spoken, brother, 10, years...  \n",
       "4  [known, internationally, martial, arts, supers...  "
      ]
     },
     "execution_count": 11,
     "metadata": {},
     "output_type": "execute_result"
    }
   ],
   "source": [
    "test_df['Tokenized_descriptions'] = tokenized_descriptions_test\n",
    "test_df.head()"
   ]
  },
  {
   "cell_type": "markdown",
   "id": "2c9adee6",
   "metadata": {},
   "source": [
    "**Сформируем списки токенов для тренировочного и тестового датасетов**"
   ]
  },
  {
   "cell_type": "code",
   "execution_count": 12,
   "id": "e57cdaf8",
   "metadata": {},
   "outputs": [],
   "source": [
    "train_list = list(chain.from_iterable(train_df['Tokenized_descriptions']))\n",
    "test_list = list(chain.from_iterable(test_df['Tokenized_descriptions']))"
   ]
  },
  {
   "cell_type": "markdown",
   "id": "7d015a72",
   "metadata": {},
   "source": [
    "**Создадим список уникальных токенов**"
   ]
  },
  {
   "cell_type": "code",
   "execution_count": 13,
   "id": "7391d072",
   "metadata": {},
   "outputs": [],
   "source": [
    "# list_of_tokens = set(train_list + test_list)\n",
    "list_of_tokens = set(train_list)"
   ]
  },
  {
   "cell_type": "markdown",
   "id": "37fa7d57",
   "metadata": {},
   "source": [
    "**Создадим прямой и обратный словари**"
   ]
  },
  {
   "cell_type": "code",
   "execution_count": 14,
   "id": "ff4d4890",
   "metadata": {},
   "outputs": [],
   "source": [
    "vocabulary = {word:number for word, number in zip(list_of_tokens, list(range(len(list_of_tokens))))}\n",
    "\n",
    "vocabulary = {k:(v+3) for k,v in vocabulary.items()} \n",
    "vocabulary[\"<PAD>\"] = 0\n",
    "vocabulary[\"<START>\"] = 1\n",
    "vocabulary[\"<UNKNOWN>\"] = 2\n",
    "\n",
    "reverse_vocabulary = {value:key for key, value in vocabulary.items()}"
   ]
  },
  {
   "cell_type": "markdown",
   "id": "f82ee41d",
   "metadata": {},
   "source": [
    "**Создадим функции для кодирования и декодирования текста**"
   ]
  },
  {
   "cell_type": "code",
   "execution_count": 15,
   "id": "84ecbe84",
   "metadata": {},
   "outputs": [],
   "source": [
    "# последовательность индексов в текст\n",
    "def decode_review(text):\n",
    "    return ' '.join([reverse_vocabulary.get(i, '?') for i in text])\n",
    "\n",
    "# текст в последовательность индексов\n",
    "def encode_review(text):\n",
    "    words = text.lower().split()\n",
    "    words = ['<START>'] + words\n",
    "    idxs = [vocabulary.get(word, vocabulary['<UNKNOWN>']) for word in words]\n",
    "    return idxs"
   ]
  },
  {
   "cell_type": "markdown",
   "id": "61bf351e",
   "metadata": {},
   "source": [
    "**Проверим работу функций кодирования и декодирования текста**"
   ]
  },
  {
   "cell_type": "code",
   "execution_count": 16,
   "id": "569af5df",
   "metadata": {},
   "outputs": [
    {
     "name": "stdout",
     "output_type": "stream",
     "text": [
      "[1, 78178, 123252]\n",
      "<START> hello world\n"
     ]
    }
   ],
   "source": [
    "text = 'hello world'\n",
    "\n",
    "print(encode_review(text))\n",
    "print(decode_review(encode_review(text)))"
   ]
  },
  {
   "cell_type": "markdown",
   "id": "0503449b",
   "metadata": {},
   "source": [
    "**Векторизуем описания**"
   ]
  },
  {
   "cell_type": "code",
   "execution_count": 17,
   "id": "b2204bb6",
   "metadata": {},
   "outputs": [
    {
     "data": {
      "text/html": [
       "<div>\n",
       "<style scoped>\n",
       "    .dataframe tbody tr th:only-of-type {\n",
       "        vertical-align: middle;\n",
       "    }\n",
       "\n",
       "    .dataframe tbody tr th {\n",
       "        vertical-align: top;\n",
       "    }\n",
       "\n",
       "    .dataframe thead th {\n",
       "        text-align: right;\n",
       "    }\n",
       "</style>\n",
       "<table border=\"1\" class=\"dataframe\">\n",
       "  <thead>\n",
       "    <tr style=\"text-align: right;\">\n",
       "      <th></th>\n",
       "      <th>ID</th>\n",
       "      <th>Title</th>\n",
       "      <th>Genre</th>\n",
       "      <th>Description</th>\n",
       "      <th>Genre_cat</th>\n",
       "      <th>Tokenized_descriptions</th>\n",
       "      <th>Vectorized_description</th>\n",
       "    </tr>\n",
       "  </thead>\n",
       "  <tbody>\n",
       "    <tr>\n",
       "      <th>0</th>\n",
       "      <td>1</td>\n",
       "      <td>Oscar et la dame rose (2009)</td>\n",
       "      <td>drama</td>\n",
       "      <td>Listening in to a conversation between his do...</td>\n",
       "      <td>8.0</td>\n",
       "      <td>[listening, conversation, doctor, parents, 10-...</td>\n",
       "      <td>[1, 4328, 122128, 55521, 52589, 87958, 92760, ...</td>\n",
       "    </tr>\n",
       "    <tr>\n",
       "      <th>1</th>\n",
       "      <td>2</td>\n",
       "      <td>Cupid (1997)</td>\n",
       "      <td>thriller</td>\n",
       "      <td>A brother and sister with a past incestuous r...</td>\n",
       "      <td>24.0</td>\n",
       "      <td>[brother, sister, past, incestuous, relationsh...</td>\n",
       "      <td>[1, 96228, 123245, 96655, 140148, 26996, 7261,...</td>\n",
       "    </tr>\n",
       "    <tr>\n",
       "      <th>2</th>\n",
       "      <td>3</td>\n",
       "      <td>Young, Wild and Wonderful (1980)</td>\n",
       "      <td>adult</td>\n",
       "      <td>As the bus empties the students for their fie...</td>\n",
       "      <td>1.0</td>\n",
       "      <td>[bus, empties, students, field, trip, museum, ...</td>\n",
       "      <td>[1, 58961, 57467, 60404, 142824, 122606, 34451...</td>\n",
       "    </tr>\n",
       "    <tr>\n",
       "      <th>3</th>\n",
       "      <td>4</td>\n",
       "      <td>The Secret Sin (1915)</td>\n",
       "      <td>drama</td>\n",
       "      <td>To help their unemployed father make ends mee...</td>\n",
       "      <td>8.0</td>\n",
       "      <td>[help, unemployed, father, make, ends, meet, e...</td>\n",
       "      <td>[1, 128099, 96435, 113284, 25214, 142076, 5398...</td>\n",
       "    </tr>\n",
       "    <tr>\n",
       "      <th>4</th>\n",
       "      <td>5</td>\n",
       "      <td>The Unrecovered (2007)</td>\n",
       "      <td>drama</td>\n",
       "      <td>The film's title refers not only to the un-re...</td>\n",
       "      <td>8.0</td>\n",
       "      <td>[film, 's, title, refers, un-recovered, bodies...</td>\n",
       "      <td>[1, 92745, 133549, 84166, 86798, 131790, 10462...</td>\n",
       "    </tr>\n",
       "  </tbody>\n",
       "</table>\n",
       "</div>"
      ],
      "text/plain": [
       "   ID                               Title       Genre  \\\n",
       "0   1       Oscar et la dame rose (2009)       drama    \n",
       "1   2                       Cupid (1997)    thriller    \n",
       "2   3   Young, Wild and Wonderful (1980)       adult    \n",
       "3   4              The Secret Sin (1915)       drama    \n",
       "4   5             The Unrecovered (2007)       drama    \n",
       "\n",
       "                                         Description  Genre_cat  \\\n",
       "0   Listening in to a conversation between his do...        8.0   \n",
       "1   A brother and sister with a past incestuous r...       24.0   \n",
       "2   As the bus empties the students for their fie...        1.0   \n",
       "3   To help their unemployed father make ends mee...        8.0   \n",
       "4   The film's title refers not only to the un-re...        8.0   \n",
       "\n",
       "                              Tokenized_descriptions  \\\n",
       "0  [listening, conversation, doctor, parents, 10-...   \n",
       "1  [brother, sister, past, incestuous, relationsh...   \n",
       "2  [bus, empties, students, field, trip, museum, ...   \n",
       "3  [help, unemployed, father, make, ends, meet, e...   \n",
       "4  [film, 's, title, refers, un-recovered, bodies...   \n",
       "\n",
       "                              Vectorized_description  \n",
       "0  [1, 4328, 122128, 55521, 52589, 87958, 92760, ...  \n",
       "1  [1, 96228, 123245, 96655, 140148, 26996, 7261,...  \n",
       "2  [1, 58961, 57467, 60404, 142824, 122606, 34451...  \n",
       "3  [1, 128099, 96435, 113284, 25214, 142076, 5398...  \n",
       "4  [1, 92745, 133549, 84166, 86798, 131790, 10462...  "
      ]
     },
     "execution_count": 17,
     "metadata": {},
     "output_type": "execute_result"
    }
   ],
   "source": [
    "train_df['Vectorized_description'] = train_df['Tokenized_descriptions'].apply(lambda x: encode_review(\" \".join(x)))\n",
    "train_df.head()"
   ]
  },
  {
   "cell_type": "code",
   "execution_count": 18,
   "id": "eadbe1d2",
   "metadata": {},
   "outputs": [
    {
     "data": {
      "text/html": [
       "<div>\n",
       "<style scoped>\n",
       "    .dataframe tbody tr th:only-of-type {\n",
       "        vertical-align: middle;\n",
       "    }\n",
       "\n",
       "    .dataframe tbody tr th {\n",
       "        vertical-align: top;\n",
       "    }\n",
       "\n",
       "    .dataframe thead th {\n",
       "        text-align: right;\n",
       "    }\n",
       "</style>\n",
       "<table border=\"1\" class=\"dataframe\">\n",
       "  <thead>\n",
       "    <tr style=\"text-align: right;\">\n",
       "      <th></th>\n",
       "      <th>ID</th>\n",
       "      <th>Title</th>\n",
       "      <th>Genre</th>\n",
       "      <th>Description</th>\n",
       "      <th>Genre_cat</th>\n",
       "      <th>Tokenized_descriptions</th>\n",
       "      <th>Vectorized_description</th>\n",
       "    </tr>\n",
       "  </thead>\n",
       "  <tbody>\n",
       "    <tr>\n",
       "      <th>0</th>\n",
       "      <td>1</td>\n",
       "      <td>Edgar's Lunch (1998)</td>\n",
       "      <td>thriller</td>\n",
       "      <td>L.R. Brane loves his life - his car, his apar...</td>\n",
       "      <td>24.0</td>\n",
       "      <td>[l.r, brane, loves, life, car, apartment, job,...</td>\n",
       "      <td>[1, 2, 2, 120597, 96759, 128578, 49112, 132787...</td>\n",
       "    </tr>\n",
       "    <tr>\n",
       "      <th>1</th>\n",
       "      <td>2</td>\n",
       "      <td>La guerra de papá (1977)</td>\n",
       "      <td>comedy</td>\n",
       "      <td>Spain, March 1964: Quico is a very naughty ch...</td>\n",
       "      <td>5.0</td>\n",
       "      <td>[spain, march, 1964, quico, naughty, child, th...</td>\n",
       "      <td>[1, 146437, 137276, 23352, 2, 12174, 106402, 6...</td>\n",
       "    </tr>\n",
       "    <tr>\n",
       "      <th>2</th>\n",
       "      <td>3</td>\n",
       "      <td>Off the Beaten Track (2010)</td>\n",
       "      <td>documentary</td>\n",
       "      <td>One year in the life of Albin and his family ...</td>\n",
       "      <td>7.0</td>\n",
       "      <td>[one, year, life, albin, family, shepherds, no...</td>\n",
       "      <td>[1, 81728, 50821, 96759, 104647, 119370, 14612...</td>\n",
       "    </tr>\n",
       "    <tr>\n",
       "      <th>3</th>\n",
       "      <td>4</td>\n",
       "      <td>Meu Amigo Hindu (2015)</td>\n",
       "      <td>drama</td>\n",
       "      <td>His father has died, he hasn't spoken with hi...</td>\n",
       "      <td>8.0</td>\n",
       "      <td>[father, died, n't, spoken, brother, 10, years...</td>\n",
       "      <td>[1, 113284, 105576, 2489, 65830, 96228, 146771...</td>\n",
       "    </tr>\n",
       "    <tr>\n",
       "      <th>4</th>\n",
       "      <td>5</td>\n",
       "      <td>Er nu zhai (1955)</td>\n",
       "      <td>drama</td>\n",
       "      <td>Before he was known internationally as a mart...</td>\n",
       "      <td>8.0</td>\n",
       "      <td>[known, internationally, martial, arts, supers...</td>\n",
       "      <td>[1, 86546, 33000, 6225, 82989, 85471, 2890, 13...</td>\n",
       "    </tr>\n",
       "  </tbody>\n",
       "</table>\n",
       "</div>"
      ],
      "text/plain": [
       "   ID                          Title          Genre  \\\n",
       "0   1          Edgar's Lunch (1998)       thriller    \n",
       "1   2      La guerra de papá (1977)         comedy    \n",
       "2   3   Off the Beaten Track (2010)    documentary    \n",
       "3   4        Meu Amigo Hindu (2015)          drama    \n",
       "4   5             Er nu zhai (1955)          drama    \n",
       "\n",
       "                                         Description  Genre_cat  \\\n",
       "0   L.R. Brane loves his life - his car, his apar...       24.0   \n",
       "1   Spain, March 1964: Quico is a very naughty ch...        5.0   \n",
       "2   One year in the life of Albin and his family ...        7.0   \n",
       "3   His father has died, he hasn't spoken with hi...        8.0   \n",
       "4   Before he was known internationally as a mart...        8.0   \n",
       "\n",
       "                              Tokenized_descriptions  \\\n",
       "0  [l.r, brane, loves, life, car, apartment, job,...   \n",
       "1  [spain, march, 1964, quico, naughty, child, th...   \n",
       "2  [one, year, life, albin, family, shepherds, no...   \n",
       "3  [father, died, n't, spoken, brother, 10, years...   \n",
       "4  [known, internationally, martial, arts, supers...   \n",
       "\n",
       "                              Vectorized_description  \n",
       "0  [1, 2, 2, 120597, 96759, 128578, 49112, 132787...  \n",
       "1  [1, 146437, 137276, 23352, 2, 12174, 106402, 6...  \n",
       "2  [1, 81728, 50821, 96759, 104647, 119370, 14612...  \n",
       "3  [1, 113284, 105576, 2489, 65830, 96228, 146771...  \n",
       "4  [1, 86546, 33000, 6225, 82989, 85471, 2890, 13...  "
      ]
     },
     "execution_count": 18,
     "metadata": {},
     "output_type": "execute_result"
    }
   ],
   "source": [
    "test_df['Vectorized_description'] = test_df['Tokenized_descriptions'].apply(lambda x: encode_review(\" \".join(x)))\n",
    "test_df.head()"
   ]
  },
  {
   "cell_type": "markdown",
   "id": "8bc39a9c",
   "metadata": {},
   "source": [
    "**Сформируем тренировочные и тестовые данные**"
   ]
  },
  {
   "cell_type": "code",
   "execution_count": 19,
   "id": "dad0b218",
   "metadata": {},
   "outputs": [],
   "source": [
    "train_data = np.array(train_df['Vectorized_description'])\n",
    "train_labels = np.array(train_df['Genre_cat']).astype('int')\n",
    "test_data = np.array(test_df['Vectorized_description'])\n",
    "test_labels = np.array(test_df['Genre_cat']).astype('int')"
   ]
  },
  {
   "cell_type": "markdown",
   "id": "e9235e0c",
   "metadata": {},
   "source": [
    "**Проверим работу декодера на тестовом семпле**"
   ]
  },
  {
   "cell_type": "code",
   "execution_count": 20,
   "id": "0ca9b6cf",
   "metadata": {},
   "outputs": [
    {
     "name": "stdout",
     "output_type": "stream",
     "text": [
      "Example of a decoded review: \n",
      "<START> father died n't spoken brother 10 years serious cancer diego talented film director difficulty deal sickness making lose friends family best friend doctor ricardo gives news needs bone marrow transplantation otherwise 'll die gets married beautiful woman livia going seattle get treatment undergoes numerous medical procedures treatment meets hindu boy plays tells amazing stories odds stakes highest diego gets visit uncommon man\n"
     ]
    }
   ],
   "source": [
    "print('Example of a decoded review: \\n{}'.format(decode_review(test_data[3])))"
   ]
  },
  {
   "cell_type": "markdown",
   "id": "f5d3823e",
   "metadata": {},
   "source": [
    "**Сформируем последовательности данных для обучения модели**"
   ]
  },
  {
   "cell_type": "code",
   "execution_count": 21,
   "id": "c3b3059b",
   "metadata": {},
   "outputs": [
    {
     "name": "stdout",
     "output_type": "stream",
     "text": [
      "Length examples: [250, 250]\n",
      "=====================================\n",
      "Entry example: [     1   4328 122128  55521  52589  87958  92760  33145  53668 133040\n",
      " 136212 100767 142104  61797  18629   7963  79846 134282 139079 137390\n",
      "  98750  73862  34511   6430  61167 100818 122759 137390  68200 129663\n",
      "  78275  69816 104637 126255  87525  10050 104825  92760 142104  96759\n",
      "  64020  64161 127872 121003  47478  23369  25801  53677  15995  31476\n",
      " 139773 145212      0      0      0      0      0      0      0      0\n",
      "      0      0      0      0      0      0      0      0      0      0\n",
      "      0      0      0      0      0      0      0      0      0      0\n",
      "      0      0      0      0      0      0      0      0      0      0\n",
      "      0      0      0      0      0      0      0      0      0      0\n",
      "      0      0      0      0      0      0      0      0      0      0\n",
      "      0      0      0      0      0      0      0      0      0      0\n",
      "      0      0      0      0      0      0      0      0      0      0\n",
      "      0      0      0      0      0      0      0      0      0      0\n",
      "      0      0      0      0      0      0      0      0      0      0\n",
      "      0      0      0      0      0      0      0      0      0      0\n",
      "      0      0      0      0      0      0      0      0      0      0\n",
      "      0      0      0      0      0      0      0      0      0      0\n",
      "      0      0      0      0      0      0      0      0      0      0\n",
      "      0      0      0      0      0      0      0      0      0      0\n",
      "      0      0      0      0      0      0      0      0      0      0\n",
      "      0      0      0      0      0      0      0      0      0      0\n",
      "      0      0      0      0      0      0      0      0      0      0\n",
      "      0      0      0      0      0      0      0      0      0      0\n",
      "      0      0      0      0      0      0      0      0      0      0]\n"
     ]
    }
   ],
   "source": [
    "MAX_SEQ_LEN = 250 # Финальная длина последовательности\n",
    "\n",
    "train_data = tf.keras.preprocessing.sequence.pad_sequences(\n",
    "    train_data,\n",
    "    value=vocabulary[\"<PAD>\"],\n",
    "    padding='post',\n",
    "    maxlen=MAX_SEQ_LEN)\n",
    "\n",
    "test_data = tf.keras.preprocessing.sequence.pad_sequences(\n",
    "    test_data,\n",
    "    value=vocabulary[\"<PAD>\"],\n",
    "    padding='post',\n",
    "    maxlen=MAX_SEQ_LEN)\n",
    "\n",
    "print(\"Length examples: {}\".format([len(train_data[0]), len(train_data[1])]))\n",
    "print('=====================================')\n",
    "print(\"Entry example: {}\".format(train_data[0]))"
   ]
  },
  {
   "cell_type": "markdown",
   "id": "5968a137",
   "metadata": {},
   "source": [
    "**На основе материалов из статьи https://habr.com/ru/company/mailru/blog/417767/ сформируем модель для обучения**"
   ]
  },
  {
   "cell_type": "code",
   "execution_count": 22,
   "id": "2469de12",
   "metadata": {},
   "outputs": [],
   "source": [
    "EMB_SIZE = 96 # Размер векторного представления (эмбеддинга)\n",
    "VOCAB_SIZE = len(vocabulary) # Размер словаря"
   ]
  },
  {
   "cell_type": "code",
   "execution_count": 23,
   "id": "064cbc2a",
   "metadata": {},
   "outputs": [],
   "source": [
    "net_input = Input(shape=(MAX_SEQ_LEN,), dtype='int32')\n",
    "net_encoder = Embedding(VOCAB_SIZE, EMB_SIZE, input_length=MAX_SEQ_LEN)(net_input)\n",
    "\n",
    "branches = []\n",
    "# Добавляем dropout-регуляризацию\n",
    "x = Dropout(0.1)(net_encoder)\n",
    "for size, filters_count in [(2, 16), (3, 16), (4, 16), (5, 16), (6, 16)]:\n",
    "    for i in range(filters_count):\n",
    "        # Добавляем слой свертки\n",
    "        branch = Conv1D(filters=1, kernel_size=size, padding='valid', activation='relu')(x)\n",
    "        # Добавляем слой субдискретизации\n",
    "        branch = GlobalMaxPooling1D()(branch)\n",
    "        branches.append(branch)\n",
    "# Конкатенируем карты признаков\n",
    "x = concatenate(branches, axis=1)\n",
    "# Добавляем dropout-регуляризацию\n",
    "x = Dropout(0.1)(x)\n",
    "x = Dense(30, activation='relu')(x)\n",
    "x = Dense(27)(x)\n",
    "output = (x)\n",
    "\n",
    "model = Model(inputs=[net_input], outputs=[output])"
   ]
  },
  {
   "cell_type": "code",
   "execution_count": 24,
   "id": "1c363960",
   "metadata": {},
   "outputs": [],
   "source": [
    "model.compile(optimizer='adam',\n",
    "              loss=tf.keras.losses.SparseCategoricalCrossentropy(from_logits=True),\n",
    "              metrics=['acc'])"
   ]
  },
  {
   "cell_type": "markdown",
   "id": "d0f16d08",
   "metadata": {},
   "source": [
    "**Разобъём данные тренировочные и тестовые**"
   ]
  },
  {
   "cell_type": "code",
   "execution_count": 25,
   "id": "df9d685e",
   "metadata": {},
   "outputs": [],
   "source": [
    "x_train, x_test, y_train, y_test = train_test_split(train_data, train_labels, test_size=0.2, random_state=1)"
   ]
  },
  {
   "cell_type": "markdown",
   "id": "2267b06f",
   "metadata": {},
   "source": [
    "**Настроим сохранение чекпоинтов модели**"
   ]
  },
  {
   "cell_type": "code",
   "execution_count": 26,
   "id": "bcae8a49",
   "metadata": {},
   "outputs": [],
   "source": [
    "path = Path(\"./model\")\n",
    "path.mkdir(exist_ok=True)\n",
    "cpt_filename = \"checkpoint_best.hdf5\"\n",
    "cpt_path =str(path / cpt_filename)\n",
    "\n",
    "checkpoint = tf.keras.callbacks.ModelCheckpoint(\n",
    "    cpt_path, \n",
    "    monitor='val_acc', \n",
    "    verbose=1, \n",
    "    save_best_only=True, \n",
    "    save_weights_only=True, \n",
    "    mode='max'\n",
    ")"
   ]
  },
  {
   "cell_type": "markdown",
   "id": "173cffb4",
   "metadata": {},
   "source": [
    "**Обучим модель**"
   ]
  },
  {
   "cell_type": "code",
   "execution_count": 27,
   "id": "a5d4275f",
   "metadata": {},
   "outputs": [
    {
     "data": {
      "image/png": "[encoded data removed]",
      "text/plain": [
       "<Figure size 864x576 with 2 Axes>"
      ]
     },
     "metadata": {
      "needs_background": "light"
     },
     "output_type": "display_data"
    },
    {
     "name": "stdout",
     "output_type": "stream",
     "text": [
      "Accuracy\n",
      "\ttraining         \t (min:    0.275, max:    0.918, cur:    0.918)\n",
      "\tvalidation       \t (min:    0.402, max:    0.537, cur:    0.509)\n",
      "Loss\n",
      "\ttraining         \t (min:    0.312, max:    2.557, cur:    0.312)\n",
      "\tvalidation       \t (min:    1.671, max:    2.303, cur:    2.303)\n",
      "\n",
      "Epoch 00008: val_acc did not improve from 0.53712\n"
     ]
    }
   ],
   "source": [
    "BATCH_SIZE = 512\n",
    "NUM_EPOCHS = 8\n",
    "\n",
    "history = model.fit(x_train,\n",
    "                    y_train,\n",
    "                    epochs=NUM_EPOCHS,\n",
    "                    batch_size=BATCH_SIZE,\n",
    "                    validation_data=(x_test, y_test),\n",
    "                    verbose=1,\n",
    "                    callbacks=[PlotLossesCallback(), checkpoint])"
   ]
  },
  {
   "cell_type": "markdown",
   "id": "08b2c7ed",
   "metadata": {},
   "source": [
    "**Построим графики обучения модели**"
   ]
  },
  {
   "cell_type": "code",
   "execution_count": 28,
   "id": "8695c4a5",
   "metadata": {},
   "outputs": [
    {
     "data": {
      "image/png": "[encoded data removed]",
      "text/plain": [
       "<Figure size 432x288 with 1 Axes>"
      ]
     },
     "metadata": {
      "needs_background": "light"
     },
     "output_type": "display_data"
    },
    {
     "data": {
      "image/png": "[encoded data removed]",
      "text/plain": [
       "<Figure size 432x288 with 1 Axes>"
      ]
     },
     "metadata": {
      "needs_background": "light"
     },
     "output_type": "display_data"
    }
   ],
   "source": [
    "epochs = range(1, len(history.history['acc']) + 1)\n",
    "\n",
    "plt.figure()\n",
    "plt.plot(epochs, history.history['loss'], 'bo', label='Training loss')\n",
    "plt.plot(epochs, history.history['val_loss'], 'b', label='Validation loss')\n",
    "plt.title('Training and validation loss')\n",
    "plt.xlabel('Epochs')\n",
    "plt.ylabel('Loss')\n",
    "plt.legend()\n",
    "plt.grid()\n",
    "\n",
    "plt.figure()\n",
    "plt.plot(epochs, history.history['acc'], 'bo', label='Training acc')\n",
    "plt.plot(epochs, history.history['val_acc'], 'b', label='Validation acc')\n",
    "plt.title('Training and validation accuracy')\n",
    "plt.xlabel('Epochs')\n",
    "plt.ylabel('Accuracy')\n",
    "plt.legend()\n",
    "plt.grid()"
   ]
  },
  {
   "cell_type": "markdown",
   "id": "3015454f",
   "metadata": {},
   "source": [
    "**Загрузим сохранённые веса и проверим модель на тестовых данных**"
   ]
  },
  {
   "cell_type": "code",
   "execution_count": 29,
   "id": "112c60bc",
   "metadata": {},
   "outputs": [
    {
     "name": "stdout",
     "output_type": "stream",
     "text": [
      "1694/1694 [==============================] - 41s 19ms/step - loss: 1.6741 - acc: 0.5366\n",
      "Test loss: 1.6741\n",
      "Test accuracy: 53.66 %\n"
     ]
    }
   ],
   "source": [
    "model.load_weights(str(cpt_path))\n",
    "results = model.evaluate(test_data, test_labels)\n",
    "\n",
    "print('Test loss: {:.4f}'.format(results[0]))\n",
    "print('Test accuracy: {:.2f} %'.format(results[1]*100))"
   ]
  },
  {
   "cell_type": "markdown",
   "id": "87dfbad3",
   "metadata": {},
   "source": [
    "**Сделаем predict на примере из тестовых данных**"
   ]
  },
  {
   "cell_type": "code",
   "execution_count": 118,
   "id": "912e748e",
   "metadata": {},
   "outputs": [],
   "source": [
    "genre_code = {v:k for k, v in zip(test_df['Genre'].unique(), test_df['Genre_cat'].unique())}"
   ]
  },
  {
   "cell_type": "code",
   "execution_count": 146,
   "id": "de6cc337",
   "metadata": {},
   "outputs": [
    {
     "name": "stdout",
     "output_type": "stream",
     "text": [
      "Предсказанный жанр - documentary , истиный жанр - documentary \n"
     ]
    }
   ],
   "source": [
    "sample_number = 45\n",
    "sample = np.array(test_df['Vectorized_description'][sample_number])\n",
    "sample.resize(250, refcheck=False)\n",
    "predict = model.predict(sample[None, ...])\n",
    "predicted_label = np.argmax(predict, axis = -1)\n",
    "print(f\"Предсказанный жанр -{genre_code[int(predicted_label)]}, истиный жанр -{genre_code[test_df['Genre_cat'][sample_number]]}\")"
   ]
  }
 ],
 "metadata": {
  "kernelspec": {
   "display_name": "Python 3",
   "language": "python",
   "name": "python3"
  },
  "language_info": {
   "codemirror_mode": {
    "name": "ipython",
    "version": 3
   },
   "file_extension": ".py",
   "mimetype": "text/x-python",
   "name": "python",
   "nbconvert_exporter": "python",
   "pygments_lexer": "ipython3",
   "version": "3.8.8"
  }
 },
 "nbformat": 4,
 "nbformat_minor": 5
}
